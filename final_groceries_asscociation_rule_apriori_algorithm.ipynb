{
  "nbformat": 4,
  "nbformat_minor": 0,
  "metadata": {
    "kernelspec": {
      "display_name": "Python 3",
      "language": "python",
      "name": "python3"
    },
    "language_info": {
      "codemirror_mode": {
        "name": "ipython",
        "version": 3
      },
      "file_extension": ".py",
      "mimetype": "text/x-python",
      "name": "python",
      "nbconvert_exporter": "python",
      "pygments_lexer": "ipython3",
      "version": "3.7.6"
    },
    "papermill": {
      "duration": 27.023362,
      "end_time": "2020-12-28T08:40:52.099378",
      "environment_variables": {},
      "exception": null,
      "input_path": "__notebook__.ipynb",
      "output_path": "__notebook__.ipynb",
      "parameters": {},
      "start_time": "2020-12-28T08:40:25.076016",
      "version": "2.1.0"
    },
    "colab": {
      "name": "final groceries-asscociation-rule-apriori-algorithm.ipynb",
      "provenance": [],
      "collapsed_sections": [
        "rS8ciedM-sBG"
      ]
    }
  },
  "cells": [
    {
      "cell_type": "markdown",
      "metadata": {
        "id": "rS8ciedM-sBG"
      },
      "source": [
        "# EDA"
      ]
    },
    {
      "cell_type": "code",
      "metadata": {
        "_cell_guid": "b1076dfc-b9ad-4769-8c92-a6c4dae69d19",
        "_uuid": "8f2839f25d086af736a60e9eeb907d3b93b6e0e5",
        "execution": {
          "iopub.execute_input": "2020-12-28T08:40:30.221477Z",
          "iopub.status.busy": "2020-12-28T08:40:30.220749Z",
          "iopub.status.idle": "2020-12-28T08:40:30.234934Z",
          "shell.execute_reply": "2020-12-28T08:40:30.234193Z"
        },
        "papermill": {
          "duration": 0.052318,
          "end_time": "2020-12-28T08:40:30.235049",
          "exception": false,
          "start_time": "2020-12-28T08:40:30.182731",
          "status": "completed"
        },
        "tags": [],
        "id": "y7hgwWAObEsi"
      },
      "source": [
        "import numpy as np \n",
        "import pandas as pd \n",
        "import matplotlib.pyplot as plt\n",
        "import seaborn as sns\n",
        "% matplotlib inline"
      ],
      "execution_count": null,
      "outputs": []
    },
    {
      "cell_type": "code",
      "metadata": {
        "_cell_guid": "79c7e3d0-c299-4dcb-8224-4455121ee9b0",
        "_uuid": "d629ff2d2480ee46fbb7e2d37f6b5fab8052498a",
        "execution": {
          "iopub.execute_input": "2020-12-28T08:40:30.302900Z",
          "iopub.status.busy": "2020-12-28T08:40:30.302276Z",
          "iopub.status.idle": "2020-12-28T08:40:30.345843Z",
          "shell.execute_reply": "2020-12-28T08:40:30.346547Z"
        },
        "papermill": {
          "duration": 0.080642,
          "end_time": "2020-12-28T08:40:30.346727",
          "exception": false,
          "start_time": "2020-12-28T08:40:30.266085",
          "status": "completed"
        },
        "tags": [],
        "id": "KBP1dQ7HbEsn"
      },
      "source": [
        "data=pd.read_csv(\"Groceries_dataset.csv\")"
      ],
      "execution_count": null,
      "outputs": []
    },
    {
      "cell_type": "code",
      "metadata": {
        "execution": {
          "iopub.execute_input": "2020-12-28T08:40:30.443204Z",
          "iopub.status.busy": "2020-12-28T08:40:30.442096Z",
          "iopub.status.idle": "2020-12-28T08:40:30.450337Z",
          "shell.execute_reply": "2020-12-28T08:40:30.449523Z"
        },
        "papermill": {
          "duration": 0.057424,
          "end_time": "2020-12-28T08:40:30.450458",
          "exception": false,
          "start_time": "2020-12-28T08:40:30.393034",
          "status": "completed"
        },
        "tags": [],
        "id": "MGDKlrAgbEsn",
        "colab": {
          "base_uri": "https://localhost:8080/"
        },
        "outputId": "f6d47e16-bb96-401e-81c6-d905ab6da10b"
      },
      "source": [
        "data.shape"
      ],
      "execution_count": null,
      "outputs": [
        {
          "output_type": "execute_result",
          "data": {
            "text/plain": [
              "(38765, 3)"
            ]
          },
          "metadata": {},
          "execution_count": 3
        }
      ]
    },
    {
      "cell_type": "markdown",
      "metadata": {
        "papermill": {
          "duration": 0.046259,
          "end_time": "2020-12-28T08:40:30.543049",
          "exception": false,
          "start_time": "2020-12-28T08:40:30.496790",
          "status": "completed"
        },
        "tags": [],
        "id": "lJzaRKEebEso"
      },
      "source": [
        "**The dataset has 38765 rows of the purchase orders of people from the grocery stores. These orders can be analysed and association rules can be generated using Market Basket Analysis by algorithms like Apriori Algorithm.**"
      ]
    },
    {
      "cell_type": "code",
      "metadata": {
        "execution": {
          "iopub.execute_input": "2020-12-28T08:40:30.652752Z",
          "iopub.status.busy": "2020-12-28T08:40:30.646127Z",
          "iopub.status.idle": "2020-12-28T08:40:30.664678Z",
          "shell.execute_reply": "2020-12-28T08:40:30.663786Z"
        },
        "papermill": {
          "duration": 0.075045,
          "end_time": "2020-12-28T08:40:30.664814",
          "exception": false,
          "start_time": "2020-12-28T08:40:30.589769",
          "status": "completed"
        },
        "tags": [],
        "id": "4Cz5nzYVbEso",
        "colab": {
          "base_uri": "https://localhost:8080/",
          "height": 206
        },
        "outputId": "0dd4013b-74b6-4b42-c1c1-f27aca5f1874"
      },
      "source": [
        "data.head()"
      ],
      "execution_count": null,
      "outputs": [
        {
          "output_type": "execute_result",
          "data": {
            "text/html": [
              "<div>\n",
              "<style scoped>\n",
              "    .dataframe tbody tr th:only-of-type {\n",
              "        vertical-align: middle;\n",
              "    }\n",
              "\n",
              "    .dataframe tbody tr th {\n",
              "        vertical-align: top;\n",
              "    }\n",
              "\n",
              "    .dataframe thead th {\n",
              "        text-align: right;\n",
              "    }\n",
              "</style>\n",
              "<table border=\"1\" class=\"dataframe\">\n",
              "  <thead>\n",
              "    <tr style=\"text-align: right;\">\n",
              "      <th></th>\n",
              "      <th>Member_number</th>\n",
              "      <th>Date</th>\n",
              "      <th>itemDescription</th>\n",
              "    </tr>\n",
              "  </thead>\n",
              "  <tbody>\n",
              "    <tr>\n",
              "      <th>0</th>\n",
              "      <td>1808</td>\n",
              "      <td>21-07-2015</td>\n",
              "      <td>tropical fruit</td>\n",
              "    </tr>\n",
              "    <tr>\n",
              "      <th>1</th>\n",
              "      <td>2552</td>\n",
              "      <td>05-01-2015</td>\n",
              "      <td>whole milk</td>\n",
              "    </tr>\n",
              "    <tr>\n",
              "      <th>2</th>\n",
              "      <td>2300</td>\n",
              "      <td>19-09-2015</td>\n",
              "      <td>pip fruit</td>\n",
              "    </tr>\n",
              "    <tr>\n",
              "      <th>3</th>\n",
              "      <td>1187</td>\n",
              "      <td>12-12-2015</td>\n",
              "      <td>other vegetables</td>\n",
              "    </tr>\n",
              "    <tr>\n",
              "      <th>4</th>\n",
              "      <td>3037</td>\n",
              "      <td>01-02-2015</td>\n",
              "      <td>whole milk</td>\n",
              "    </tr>\n",
              "  </tbody>\n",
              "</table>\n",
              "</div>"
            ],
            "text/plain": [
              "   Member_number        Date   itemDescription\n",
              "0           1808  21-07-2015    tropical fruit\n",
              "1           2552  05-01-2015        whole milk\n",
              "2           2300  19-09-2015         pip fruit\n",
              "3           1187  12-12-2015  other vegetables\n",
              "4           3037  01-02-2015        whole milk"
            ]
          },
          "metadata": {},
          "execution_count": 4
        }
      ]
    },
    {
      "cell_type": "code",
      "metadata": {
        "id": "mnlrUtMtvcde",
        "colab": {
          "base_uri": "https://localhost:8080/",
          "height": 423
        },
        "outputId": "f11c7571-9656-415e-d46a-a1df8c9c660d"
      },
      "source": [
        "data.sort_values(by=['Date'])"
      ],
      "execution_count": null,
      "outputs": [
        {
          "output_type": "execute_result",
          "data": {
            "text/html": [
              "<div>\n",
              "<style scoped>\n",
              "    .dataframe tbody tr th:only-of-type {\n",
              "        vertical-align: middle;\n",
              "    }\n",
              "\n",
              "    .dataframe tbody tr th {\n",
              "        vertical-align: top;\n",
              "    }\n",
              "\n",
              "    .dataframe thead th {\n",
              "        text-align: right;\n",
              "    }\n",
              "</style>\n",
              "<table border=\"1\" class=\"dataframe\">\n",
              "  <thead>\n",
              "    <tr style=\"text-align: right;\">\n",
              "      <th></th>\n",
              "      <th>Member_number</th>\n",
              "      <th>Date</th>\n",
              "      <th>itemDescription</th>\n",
              "    </tr>\n",
              "  </thead>\n",
              "  <tbody>\n",
              "    <tr>\n",
              "      <th>13581</th>\n",
              "      <td>4942</td>\n",
              "      <td>01-01-2014</td>\n",
              "      <td>butter</td>\n",
              "    </tr>\n",
              "    <tr>\n",
              "      <th>9557</th>\n",
              "      <td>1922</td>\n",
              "      <td>01-01-2014</td>\n",
              "      <td>tropical fruit</td>\n",
              "    </tr>\n",
              "    <tr>\n",
              "      <th>30568</th>\n",
              "      <td>3797</td>\n",
              "      <td>01-01-2014</td>\n",
              "      <td>whole milk</td>\n",
              "    </tr>\n",
              "    <tr>\n",
              "      <th>13449</th>\n",
              "      <td>2237</td>\n",
              "      <td>01-01-2014</td>\n",
              "      <td>bottled water</td>\n",
              "    </tr>\n",
              "    <tr>\n",
              "      <th>9172</th>\n",
              "      <td>2226</td>\n",
              "      <td>01-01-2014</td>\n",
              "      <td>sausage</td>\n",
              "    </tr>\n",
              "    <tr>\n",
              "      <th>...</th>\n",
              "      <td>...</td>\n",
              "      <td>...</td>\n",
              "      <td>...</td>\n",
              "    </tr>\n",
              "    <tr>\n",
              "      <th>3049</th>\n",
              "      <td>3122</td>\n",
              "      <td>31-10-2015</td>\n",
              "      <td>chicken</td>\n",
              "    </tr>\n",
              "    <tr>\n",
              "      <th>785</th>\n",
              "      <td>1981</td>\n",
              "      <td>31-10-2015</td>\n",
              "      <td>chicken</td>\n",
              "    </tr>\n",
              "    <tr>\n",
              "      <th>16087</th>\n",
              "      <td>1787</td>\n",
              "      <td>31-10-2015</td>\n",
              "      <td>chocolate</td>\n",
              "    </tr>\n",
              "    <tr>\n",
              "      <th>19198</th>\n",
              "      <td>3122</td>\n",
              "      <td>31-10-2015</td>\n",
              "      <td>bottled beer</td>\n",
              "    </tr>\n",
              "    <tr>\n",
              "      <th>32236</th>\n",
              "      <td>1787</td>\n",
              "      <td>31-10-2015</td>\n",
              "      <td>packaged fruit/vegetables</td>\n",
              "    </tr>\n",
              "  </tbody>\n",
              "</table>\n",
              "<p>38765 rows × 3 columns</p>\n",
              "</div>"
            ],
            "text/plain": [
              "       Member_number        Date            itemDescription\n",
              "13581           4942  01-01-2014                     butter\n",
              "9557            1922  01-01-2014             tropical fruit\n",
              "30568           3797  01-01-2014                 whole milk\n",
              "13449           2237  01-01-2014              bottled water\n",
              "9172            2226  01-01-2014                    sausage\n",
              "...              ...         ...                        ...\n",
              "3049            3122  31-10-2015                    chicken\n",
              "785             1981  31-10-2015                    chicken\n",
              "16087           1787  31-10-2015                  chocolate\n",
              "19198           3122  31-10-2015               bottled beer\n",
              "32236           1787  31-10-2015  packaged fruit/vegetables\n",
              "\n",
              "[38765 rows x 3 columns]"
            ]
          },
          "metadata": {},
          "execution_count": 5
        }
      ]
    },
    {
      "cell_type": "code",
      "metadata": {
        "id": "YdB5OZ7mdu3j",
        "colab": {
          "base_uri": "https://localhost:8080/",
          "height": 238
        },
        "outputId": "f48f1957-86d0-4e5a-c500-33fb7d46706f"
      },
      "source": [
        "#data_eda = data.copy()\n",
        "data_eda = pd.read_csv(\"Groceries_dataset.csv\",index_col='Date', parse_dates=True)\n",
        "data_eda.head()"
      ],
      "execution_count": null,
      "outputs": [
        {
          "output_type": "execute_result",
          "data": {
            "text/html": [
              "<div>\n",
              "<style scoped>\n",
              "    .dataframe tbody tr th:only-of-type {\n",
              "        vertical-align: middle;\n",
              "    }\n",
              "\n",
              "    .dataframe tbody tr th {\n",
              "        vertical-align: top;\n",
              "    }\n",
              "\n",
              "    .dataframe thead th {\n",
              "        text-align: right;\n",
              "    }\n",
              "</style>\n",
              "<table border=\"1\" class=\"dataframe\">\n",
              "  <thead>\n",
              "    <tr style=\"text-align: right;\">\n",
              "      <th></th>\n",
              "      <th>Member_number</th>\n",
              "      <th>itemDescription</th>\n",
              "    </tr>\n",
              "    <tr>\n",
              "      <th>Date</th>\n",
              "      <th></th>\n",
              "      <th></th>\n",
              "    </tr>\n",
              "  </thead>\n",
              "  <tbody>\n",
              "    <tr>\n",
              "      <th>2015-07-21</th>\n",
              "      <td>1808</td>\n",
              "      <td>tropical fruit</td>\n",
              "    </tr>\n",
              "    <tr>\n",
              "      <th>2015-05-01</th>\n",
              "      <td>2552</td>\n",
              "      <td>whole milk</td>\n",
              "    </tr>\n",
              "    <tr>\n",
              "      <th>2015-09-19</th>\n",
              "      <td>2300</td>\n",
              "      <td>pip fruit</td>\n",
              "    </tr>\n",
              "    <tr>\n",
              "      <th>2015-12-12</th>\n",
              "      <td>1187</td>\n",
              "      <td>other vegetables</td>\n",
              "    </tr>\n",
              "    <tr>\n",
              "      <th>2015-01-02</th>\n",
              "      <td>3037</td>\n",
              "      <td>whole milk</td>\n",
              "    </tr>\n",
              "  </tbody>\n",
              "</table>\n",
              "</div>"
            ],
            "text/plain": [
              "            Member_number   itemDescription\n",
              "Date                                       \n",
              "2015-07-21           1808    tropical fruit\n",
              "2015-05-01           2552        whole milk\n",
              "2015-09-19           2300         pip fruit\n",
              "2015-12-12           1187  other vegetables\n",
              "2015-01-02           3037        whole milk"
            ]
          },
          "metadata": {},
          "execution_count": 6
        }
      ]
    },
    {
      "cell_type": "code",
      "metadata": {
        "id": "2gK9UINCx_P8",
        "colab": {
          "base_uri": "https://localhost:8080/"
        },
        "outputId": "3d3800e7-9587-45e1-e2f6-2da1b759bf07"
      },
      "source": [
        "#Number of unique Costumers and Items\n",
        "print(data_eda.Member_number.nunique())\n",
        "print(data_eda.itemDescription.nunique())"
      ],
      "execution_count": null,
      "outputs": [
        {
          "output_type": "stream",
          "name": "stdout",
          "text": [
            "3898\n",
            "167\n"
          ]
        }
      ]
    },
    {
      "cell_type": "code",
      "metadata": {
        "id": "9ImP0f15yDqP",
        "colab": {
          "base_uri": "https://localhost:8080/",
          "height": 238
        },
        "outputId": "7dbf168c-8ba9-4f84-a121-dabcf2c4f957"
      },
      "source": [
        "#Creating new columns based on the date column\n",
        "data_eda['year'] = data_eda.index.year\n",
        "data_eda['month'] = data_eda.index.month\n",
        "data_eda['day'] = data_eda.index.day\n",
        "data_eda['weekday'] = data_eda.index.strftime('%A')\n",
        "data_eda['monthName'] = data_eda.index.strftime('%B')\n",
        "data_eda.head()"
      ],
      "execution_count": null,
      "outputs": [
        {
          "output_type": "execute_result",
          "data": {
            "text/html": [
              "<div>\n",
              "<style scoped>\n",
              "    .dataframe tbody tr th:only-of-type {\n",
              "        vertical-align: middle;\n",
              "    }\n",
              "\n",
              "    .dataframe tbody tr th {\n",
              "        vertical-align: top;\n",
              "    }\n",
              "\n",
              "    .dataframe thead th {\n",
              "        text-align: right;\n",
              "    }\n",
              "</style>\n",
              "<table border=\"1\" class=\"dataframe\">\n",
              "  <thead>\n",
              "    <tr style=\"text-align: right;\">\n",
              "      <th></th>\n",
              "      <th>Member_number</th>\n",
              "      <th>itemDescription</th>\n",
              "      <th>year</th>\n",
              "      <th>month</th>\n",
              "      <th>day</th>\n",
              "      <th>weekday</th>\n",
              "      <th>monthName</th>\n",
              "    </tr>\n",
              "    <tr>\n",
              "      <th>Date</th>\n",
              "      <th></th>\n",
              "      <th></th>\n",
              "      <th></th>\n",
              "      <th></th>\n",
              "      <th></th>\n",
              "      <th></th>\n",
              "      <th></th>\n",
              "    </tr>\n",
              "  </thead>\n",
              "  <tbody>\n",
              "    <tr>\n",
              "      <th>2015-07-21</th>\n",
              "      <td>1808</td>\n",
              "      <td>tropical fruit</td>\n",
              "      <td>2015</td>\n",
              "      <td>7</td>\n",
              "      <td>21</td>\n",
              "      <td>Tuesday</td>\n",
              "      <td>July</td>\n",
              "    </tr>\n",
              "    <tr>\n",
              "      <th>2015-05-01</th>\n",
              "      <td>2552</td>\n",
              "      <td>whole milk</td>\n",
              "      <td>2015</td>\n",
              "      <td>5</td>\n",
              "      <td>1</td>\n",
              "      <td>Friday</td>\n",
              "      <td>May</td>\n",
              "    </tr>\n",
              "    <tr>\n",
              "      <th>2015-09-19</th>\n",
              "      <td>2300</td>\n",
              "      <td>pip fruit</td>\n",
              "      <td>2015</td>\n",
              "      <td>9</td>\n",
              "      <td>19</td>\n",
              "      <td>Saturday</td>\n",
              "      <td>September</td>\n",
              "    </tr>\n",
              "    <tr>\n",
              "      <th>2015-12-12</th>\n",
              "      <td>1187</td>\n",
              "      <td>other vegetables</td>\n",
              "      <td>2015</td>\n",
              "      <td>12</td>\n",
              "      <td>12</td>\n",
              "      <td>Saturday</td>\n",
              "      <td>December</td>\n",
              "    </tr>\n",
              "    <tr>\n",
              "      <th>2015-01-02</th>\n",
              "      <td>3037</td>\n",
              "      <td>whole milk</td>\n",
              "      <td>2015</td>\n",
              "      <td>1</td>\n",
              "      <td>2</td>\n",
              "      <td>Friday</td>\n",
              "      <td>January</td>\n",
              "    </tr>\n",
              "  </tbody>\n",
              "</table>\n",
              "</div>"
            ],
            "text/plain": [
              "            Member_number   itemDescription  year  ...  day   weekday  monthName\n",
              "Date                                               ...                          \n",
              "2015-07-21           1808    tropical fruit  2015  ...   21   Tuesday       July\n",
              "2015-05-01           2552        whole milk  2015  ...    1    Friday        May\n",
              "2015-09-19           2300         pip fruit  2015  ...   19  Saturday  September\n",
              "2015-12-12           1187  other vegetables  2015  ...   12  Saturday   December\n",
              "2015-01-02           3037        whole milk  2015  ...    2    Friday    January\n",
              "\n",
              "[5 rows x 7 columns]"
            ]
          },
          "metadata": {},
          "execution_count": 8
        }
      ]
    },
    {
      "cell_type": "code",
      "metadata": {
        "id": "rfUKMURa3-7s",
        "colab": {
          "base_uri": "https://localhost:8080/"
        },
        "outputId": "c3faa133-0fef-4eaf-f084-b751f019e900"
      },
      "source": [
        "data_eda['year'].value_counts()"
      ],
      "execution_count": null,
      "outputs": [
        {
          "output_type": "execute_result",
          "data": {
            "text/plain": [
              "2015    20488\n",
              "2014    18277\n",
              "Name: year, dtype: int64"
            ]
          },
          "metadata": {},
          "execution_count": 9
        }
      ]
    },
    {
      "cell_type": "code",
      "metadata": {
        "id": "Dgctlip258O0",
        "colab": {
          "base_uri": "https://localhost:8080/",
          "height": 356
        },
        "outputId": "f1787e86-c43d-4c62-b85a-aa17dfaae93a"
      },
      "source": [
        "plt.figure(figsize=(10, 5))\n",
        "data_eda['month'].value_counts(sort=True).plot(kind='bar',rot=0,colormap='Pastel2')\n",
        "plt.title('Sales in months', size=15)"
      ],
      "execution_count": null,
      "outputs": [
        {
          "output_type": "execute_result",
          "data": {
            "text/plain": [
              "Text(0.5, 1.0, 'Sales in months')"
            ]
          },
          "metadata": {},
          "execution_count": 10
        },
        {
          "output_type": "display_data",
          "data": {
            "image/png": "[encoded data removed]",
            "text/plain": [
              "<Figure size 720x360 with 1 Axes>"
            ]
          },
          "metadata": {
            "needs_background": "light"
          }
        }
      ]
    },
    {
      "cell_type": "code",
      "metadata": {
        "id": "s7R-wSk05DOd",
        "colab": {
          "base_uri": "https://localhost:8080/",
          "height": 356
        },
        "outputId": "5b296b35-8256-4ffd-a955-9992dbb3e4b4"
      },
      "source": [
        "plt.figure(figsize=(10, 5))\n",
        "data_eda['weekday'].value_counts(sort=True).plot(kind='bar',rot=0,colormap='Pastel2')\n",
        "plt.title('Sales in Weekdays', size=15)"
      ],
      "execution_count": null,
      "outputs": [
        {
          "output_type": "execute_result",
          "data": {
            "text/plain": [
              "Text(0.5, 1.0, 'Sales in Weekdays')"
            ]
          },
          "metadata": {},
          "execution_count": 11
        },
        {
          "output_type": "display_data",
          "data": {
            "image/png": "[encoded data removed]",
            "text/plain": [
              "<Figure size 720x360 with 1 Axes>"
            ]
          },
          "metadata": {
            "needs_background": "light"
          }
        }
      ]
    },
    {
      "cell_type": "code",
      "metadata": {
        "id": "TWGff1ia6FJ9",
        "colab": {
          "base_uri": "https://localhost:8080/",
          "height": 356
        },
        "outputId": "d75a8534-37ed-48c6-eb32-42f3296ef756"
      },
      "source": [
        "plt.figure(figsize=(10, 5))\n",
        "data_eda['day'].value_counts(sort=True).plot(kind='bar',rot=0,colormap='Pastel1')\n",
        "plt.title('Sales in Days', size=15)"
      ],
      "execution_count": null,
      "outputs": [
        {
          "output_type": "execute_result",
          "data": {
            "text/plain": [
              "Text(0.5, 1.0, 'Sales in Days')"
            ]
          },
          "metadata": {},
          "execution_count": 12
        },
        {
          "output_type": "display_data",
          "data": {
            "image/png": "[encoded data removed]",
            "text/plain": [
              "<Figure size 720x360 with 1 Axes>"
            ]
          },
          "metadata": {
            "needs_background": "light"
          }
        }
      ]
    },
    {
      "cell_type": "markdown",
      "metadata": {
        "id": "HjitHKUi3CTm"
      },
      "source": [
        "To find top 50 itmes sold "
      ]
    },
    {
      "cell_type": "code",
      "metadata": {
        "id": "fgv1vyLAzEBX",
        "colab": {
          "base_uri": "https://localhost:8080/",
          "height": 206
        },
        "outputId": "9f0d2d7c-f81e-4716-fbf0-43b4f05b8c8b"
      },
      "source": [
        "df1 = pd.DataFrame(data_eda['itemDescription'].value_counts().head(50)).reset_index()\n",
        "df1.columns =['itemDescription','Count']\n",
        "df1.head()"
      ],
      "execution_count": null,
      "outputs": [
        {
          "output_type": "execute_result",
          "data": {
            "text/html": [
              "<div>\n",
              "<style scoped>\n",
              "    .dataframe tbody tr th:only-of-type {\n",
              "        vertical-align: middle;\n",
              "    }\n",
              "\n",
              "    .dataframe tbody tr th {\n",
              "        vertical-align: top;\n",
              "    }\n",
              "\n",
              "    .dataframe thead th {\n",
              "        text-align: right;\n",
              "    }\n",
              "</style>\n",
              "<table border=\"1\" class=\"dataframe\">\n",
              "  <thead>\n",
              "    <tr style=\"text-align: right;\">\n",
              "      <th></th>\n",
              "      <th>itemDescription</th>\n",
              "      <th>Count</th>\n",
              "    </tr>\n",
              "  </thead>\n",
              "  <tbody>\n",
              "    <tr>\n",
              "      <th>0</th>\n",
              "      <td>whole milk</td>\n",
              "      <td>2502</td>\n",
              "    </tr>\n",
              "    <tr>\n",
              "      <th>1</th>\n",
              "      <td>other vegetables</td>\n",
              "      <td>1898</td>\n",
              "    </tr>\n",
              "    <tr>\n",
              "      <th>2</th>\n",
              "      <td>rolls/buns</td>\n",
              "      <td>1716</td>\n",
              "    </tr>\n",
              "    <tr>\n",
              "      <th>3</th>\n",
              "      <td>soda</td>\n",
              "      <td>1514</td>\n",
              "    </tr>\n",
              "    <tr>\n",
              "      <th>4</th>\n",
              "      <td>yogurt</td>\n",
              "      <td>1334</td>\n",
              "    </tr>\n",
              "  </tbody>\n",
              "</table>\n",
              "</div>"
            ],
            "text/plain": [
              "    itemDescription  Count\n",
              "0        whole milk   2502\n",
              "1  other vegetables   1898\n",
              "2        rolls/buns   1716\n",
              "3              soda   1514\n",
              "4            yogurt   1334"
            ]
          },
          "metadata": {},
          "execution_count": 13
        }
      ]
    },
    {
      "cell_type": "code",
      "metadata": {
        "id": "o-8cuThf0IWe",
        "colab": {
          "base_uri": "https://localhost:8080/",
          "height": 314
        },
        "outputId": "f3a20b6c-22a9-4f7d-a0d4-0d69b74613be"
      },
      "source": [
        "plt.figure(figsize=(80, 15))\n",
        "sns.barplot(x='itemDescription',y='Count', data=df1)\n",
        "plt.title('50 most purchased items', size=35)\n",
        "plt.ylabel('Quantity')"
      ],
      "execution_count": null,
      "outputs": [
        {
          "output_type": "execute_result",
          "data": {
            "text/plain": [
              "Text(0, 0.5, 'Quantity')"
            ]
          },
          "metadata": {},
          "execution_count": 14
        },
        {
          "output_type": "display_data",
          "data": {
            "image/png": "[encoded data removed]",
            "text/plain": [
              "<Figure size 5760x1080 with 1 Axes>"
            ]
          },
          "metadata": {
            "needs_background": "light"
          }
        }
      ]
    },
    {
      "cell_type": "code",
      "metadata": {
        "id": "XTg-d8Wx3Nf-",
        "colab": {
          "base_uri": "https://localhost:8080/",
          "height": 315
        },
        "outputId": "b4c66cfc-2c27-41c2-cefb-5975e86dc7d2"
      },
      "source": [
        "df2 = pd.DataFrame(data_eda['itemDescription'].value_counts().tail(50)).reset_index()\n",
        "df2.columns =['itemDescription','Count']\n",
        "plt.figure(figsize=(80, 15))\n",
        "sns.barplot(x='itemDescription',y='Count', data=df2)\n",
        "plt.title('50 least purchased items', size=35)\n",
        "plt.ylabel('Quantity')"
      ],
      "execution_count": null,
      "outputs": [
        {
          "output_type": "execute_result",
          "data": {
            "text/plain": [
              "Text(0, 0.5, 'Quantity')"
            ]
          },
          "metadata": {},
          "execution_count": 15
        },
        {
          "output_type": "display_data",
          "data": {
            "image/png": "[encoded data removed]",
            "text/plain": [
              "<Figure size 5760x1080 with 1 Axes>"
            ]
          },
          "metadata": {
            "needs_background": "light"
          }
        }
      ]
    },
    {
      "cell_type": "code",
      "metadata": {
        "id": "qmvYBpzv6efE",
        "colab": {
          "base_uri": "https://localhost:8080/",
          "height": 424
        },
        "outputId": "f7b83087-9474-4852-b2a0-9569c30d75d1"
      },
      "source": [
        "#Total items sold per month each year\n",
        "plt.figure(figsize=(15,6))\n",
        "ax = sns.countplot(x='month', hue='year', data=data_eda)\n",
        "plt.title('Total items sold per month each year', size=15)\n",
        "plt.xlabel('Month')\n",
        "plt.ylabel('Quantity')"
      ],
      "execution_count": null,
      "outputs": [
        {
          "output_type": "execute_result",
          "data": {
            "text/plain": [
              "Text(0, 0.5, 'Quantity')"
            ]
          },
          "metadata": {},
          "execution_count": 16
        },
        {
          "output_type": "display_data",
          "data": {
            "image/png": "[encoded data removed]",
            "text/plain": [
              "<Figure size 1080x432 with 1 Axes>"
            ]
          },
          "metadata": {
            "needs_background": "light"
          }
        }
      ]
    },
    {
      "cell_type": "code",
      "metadata": {
        "id": "GbNgvKlA69SK",
        "colab": {
          "base_uri": "https://localhost:8080/",
          "height": 424
        },
        "outputId": "0ecb9582-4867-4eec-8169-24569e51eab4"
      },
      "source": [
        "#Total items sold per weekday each year  \n",
        "plt.figure(figsize=(15,6))\n",
        "ax = sns.countplot(x='weekday', hue='year', data=data_eda)\n",
        "plt.title('Total items sold per weekday each year', size=15)\n",
        "plt.xlabel('Weekday')\n",
        "plt.ylabel('Quantity')"
      ],
      "execution_count": null,
      "outputs": [
        {
          "output_type": "execute_result",
          "data": {
            "text/plain": [
              "Text(0, 0.5, 'Quantity')"
            ]
          },
          "metadata": {},
          "execution_count": 17
        },
        {
          "output_type": "display_data",
          "data": {
            "image/png": "[encoded data removed]",
            "text/plain": [
              "<Figure size 1080x432 with 1 Axes>"
            ]
          },
          "metadata": {
            "needs_background": "light"
          }
        }
      ]
    },
    {
      "cell_type": "code",
      "metadata": {
        "id": "NOzhL6VD7Lsq",
        "colab": {
          "base_uri": "https://localhost:8080/",
          "height": 521
        },
        "outputId": "ab5dea3d-a415-4b10-8919-690516940439"
      },
      "source": [
        "#Total items sold per day each year\n",
        "plt.figure(figsize=(25,8))\n",
        "ax = sns.countplot(x='day', hue='year', data=data_eda)\n",
        "plt.title('Total items sold per day each year', size=15)\n",
        "plt.xlabel('Day')\n",
        "plt.ylabel('Quantity')"
      ],
      "execution_count": null,
      "outputs": [
        {
          "output_type": "execute_result",
          "data": {
            "text/plain": [
              "Text(0, 0.5, 'Quantity')"
            ]
          },
          "metadata": {},
          "execution_count": 18
        },
        {
          "output_type": "display_data",
          "data": {
            "image/png": "[encoded data removed]",
            "text/plain": [
              "<Figure size 1800x576 with 1 Axes>"
            ]
          },
          "metadata": {
            "needs_background": "light"
          }
        }
      ]
    },
    {
      "cell_type": "code",
      "metadata": {
        "execution": {
          "iopub.execute_input": "2020-12-28T08:40:31.595884Z",
          "iopub.status.busy": "2020-12-28T08:40:31.555199Z",
          "iopub.status.idle": "2020-12-28T08:40:31.610894Z",
          "shell.execute_reply": "2020-12-28T08:40:31.610246Z"
        },
        "papermill": {
          "duration": 0.168774,
          "end_time": "2020-12-28T08:40:31.610998",
          "exception": false,
          "start_time": "2020-12-28T08:40:31.442224",
          "status": "completed"
        },
        "tags": [],
        "id": "umE99EuCbEsq",
        "colab": {
          "base_uri": "https://localhost:8080/"
        },
        "outputId": "84e5613c-483a-4224-ee33-aad98c7a9f99"
      },
      "source": [
        "total_items = len(data_eda)\n",
        "total_days = len(np.unique(data_eda.index.date))\n",
        "total_months = len(np.unique(data_eda.index.month))\n",
        "average_items = total_items / total_days\n",
        "unique_items = data_eda.itemDescription.unique().size\n",
        "\n",
        "print(\"Total {} items sold in {} days throughout 2 years\".format(total_items, total_days))\n",
        "print(\"With an average of {} items sold daily\".format(average_items))"
      ],
      "execution_count": null,
      "outputs": [
        {
          "output_type": "stream",
          "name": "stdout",
          "text": [
            "Total 38765 items sold in 728 days throughout 2 years\n",
            "With an average of 53.24862637362637 items sold daily\n"
          ]
        }
      ]
    },
    {
      "cell_type": "code",
      "metadata": {
        "id": "l2hn14MGCFhe",
        "colab": {
          "base_uri": "https://localhost:8080/",
          "height": 354
        },
        "outputId": "47aa5710-0b98-4afa-df5d-7e85b370be6b"
      },
      "source": [
        "#Top Customers\n",
        "plt.figure(figsize=(30,6))\n",
        "ax = sns.countplot(x='Member_number', data=data_eda, order=data_eda.Member_number.value_counts().iloc[:50].index)\n",
        "plt.title('Top Customers', size=15)\n",
        "plt.xlabel('Customer')\n",
        "plt.ylabel('Quantity Purchased')"
      ],
      "execution_count": null,
      "outputs": [
        {
          "output_type": "execute_result",
          "data": {
            "text/plain": [
              "Text(0, 0.5, 'Quantity Purchased')"
            ]
          },
          "metadata": {},
          "execution_count": 20
        },
        {
          "output_type": "display_data",
          "data": {
            "image/png": "[encoded data removed]",
            "text/plain": [
              "<Figure size 2160x432 with 1 Axes>"
            ]
          },
          "metadata": {
            "needs_background": "light"
          }
        }
      ]
    },
    {
      "cell_type": "markdown",
      "metadata": {
        "id": "LPSrRsQIC_vB"
      },
      "source": [
        "# Apriori Model"
      ]
    },
    {
      "cell_type": "code",
      "metadata": {
        "id": "5c8OEOhK-1to",
        "colab": {
          "base_uri": "https://localhost:8080/"
        },
        "outputId": "22734883-f89e-41a6-efa7-09dfd53cb9e0"
      },
      "source": [
        "user_id = input()"
      ],
      "execution_count": null,
      "outputs": [
        {
          "name": "stdout",
          "output_type": "stream",
          "text": [
            "2005\n"
          ]
        }
      ]
    },
    {
      "cell_type": "code",
      "metadata": {
        "id": "S2Ai7VxPPx1B"
      },
      "source": [
        "df3 = data.loc[data['Member_number'] == int(user_id)]"
      ],
      "execution_count": null,
      "outputs": []
    },
    {
      "cell_type": "code",
      "metadata": {
        "id": "5YU9XaAyB7k9",
        "colab": {
          "base_uri": "https://localhost:8080/",
          "height": 457
        },
        "outputId": "79c4aae4-a2f6-4a14-f9ca-ca8d9824e44a"
      },
      "source": [
        "df3"
      ],
      "execution_count": null,
      "outputs": [
        {
          "output_type": "execute_result",
          "data": {
            "text/html": [
              "<div>\n",
              "<style scoped>\n",
              "    .dataframe tbody tr th:only-of-type {\n",
              "        vertical-align: middle;\n",
              "    }\n",
              "\n",
              "    .dataframe tbody tr th {\n",
              "        vertical-align: top;\n",
              "    }\n",
              "\n",
              "    .dataframe thead th {\n",
              "        text-align: right;\n",
              "    }\n",
              "</style>\n",
              "<table border=\"1\" class=\"dataframe\">\n",
              "  <thead>\n",
              "    <tr style=\"text-align: right;\">\n",
              "      <th></th>\n",
              "      <th>Member_number</th>\n",
              "      <th>Date</th>\n",
              "      <th>itemDescription</th>\n",
              "    </tr>\n",
              "  </thead>\n",
              "  <tbody>\n",
              "    <tr>\n",
              "      <th>4827</th>\n",
              "      <td>2005</td>\n",
              "      <td>22-09-2015</td>\n",
              "      <td>bottled beer</td>\n",
              "    </tr>\n",
              "    <tr>\n",
              "      <th>5248</th>\n",
              "      <td>2005</td>\n",
              "      <td>20-04-2015</td>\n",
              "      <td>pork</td>\n",
              "    </tr>\n",
              "    <tr>\n",
              "      <th>8379</th>\n",
              "      <td>2005</td>\n",
              "      <td>22-09-2015</td>\n",
              "      <td>jam</td>\n",
              "    </tr>\n",
              "    <tr>\n",
              "      <th>10202</th>\n",
              "      <td>2005</td>\n",
              "      <td>18-10-2014</td>\n",
              "      <td>mustard</td>\n",
              "    </tr>\n",
              "    <tr>\n",
              "      <th>12082</th>\n",
              "      <td>2005</td>\n",
              "      <td>22-11-2014</td>\n",
              "      <td>brown bread</td>\n",
              "    </tr>\n",
              "    <tr>\n",
              "      <th>20976</th>\n",
              "      <td>2005</td>\n",
              "      <td>22-09-2015</td>\n",
              "      <td>male cosmetics</td>\n",
              "    </tr>\n",
              "    <tr>\n",
              "      <th>21397</th>\n",
              "      <td>2005</td>\n",
              "      <td>20-04-2015</td>\n",
              "      <td>yogurt</td>\n",
              "    </tr>\n",
              "    <tr>\n",
              "      <th>24528</th>\n",
              "      <td>2005</td>\n",
              "      <td>22-09-2015</td>\n",
              "      <td>dessert</td>\n",
              "    </tr>\n",
              "    <tr>\n",
              "      <th>26351</th>\n",
              "      <td>2005</td>\n",
              "      <td>18-10-2014</td>\n",
              "      <td>yogurt</td>\n",
              "    </tr>\n",
              "    <tr>\n",
              "      <th>28231</th>\n",
              "      <td>2005</td>\n",
              "      <td>22-11-2014</td>\n",
              "      <td>rolls/buns</td>\n",
              "    </tr>\n",
              "    <tr>\n",
              "      <th>34418</th>\n",
              "      <td>2005</td>\n",
              "      <td>18-10-2014</td>\n",
              "      <td>cat food</td>\n",
              "    </tr>\n",
              "    <tr>\n",
              "      <th>35240</th>\n",
              "      <td>2005</td>\n",
              "      <td>18-10-2014</td>\n",
              "      <td>bottled beer</td>\n",
              "    </tr>\n",
              "    <tr>\n",
              "      <th>36432</th>\n",
              "      <td>2005</td>\n",
              "      <td>20-04-2015</td>\n",
              "      <td>soda</td>\n",
              "    </tr>\n",
              "  </tbody>\n",
              "</table>\n",
              "</div>"
            ],
            "text/plain": [
              "       Member_number        Date itemDescription\n",
              "4827            2005  22-09-2015    bottled beer\n",
              "5248            2005  20-04-2015            pork\n",
              "8379            2005  22-09-2015             jam\n",
              "10202           2005  18-10-2014         mustard\n",
              "12082           2005  22-11-2014     brown bread\n",
              "20976           2005  22-09-2015  male cosmetics\n",
              "21397           2005  20-04-2015          yogurt\n",
              "24528           2005  22-09-2015         dessert\n",
              "26351           2005  18-10-2014          yogurt\n",
              "28231           2005  22-11-2014      rolls/buns\n",
              "34418           2005  18-10-2014        cat food\n",
              "35240           2005  18-10-2014    bottled beer\n",
              "36432           2005  20-04-2015            soda"
            ]
          },
          "metadata": {},
          "execution_count": 23
        }
      ]
    },
    {
      "cell_type": "code",
      "metadata": {
        "id": "jmsSpqbxLk9k",
        "colab": {
          "base_uri": "https://localhost:8080/"
        },
        "outputId": "a2a7ef19-5166-4499-ab3f-5bd9d3a2772c"
      },
      "source": [
        "df3.shape"
      ],
      "execution_count": null,
      "outputs": [
        {
          "output_type": "execute_result",
          "data": {
            "text/plain": [
              "(13, 3)"
            ]
          },
          "metadata": {},
          "execution_count": 24
        }
      ]
    },
    {
      "cell_type": "code",
      "metadata": {
        "execution": {
          "iopub.execute_input": "2020-12-28T08:40:40.199852Z",
          "iopub.status.busy": "2020-12-28T08:40:40.198807Z",
          "iopub.status.idle": "2020-12-28T08:40:40.206703Z",
          "shell.execute_reply": "2020-12-28T08:40:40.206024Z"
        },
        "papermill": {
          "duration": 0.057321,
          "end_time": "2020-12-28T08:40:40.206812",
          "exception": false,
          "start_time": "2020-12-28T08:40:40.149491",
          "status": "completed"
        },
        "tags": [],
        "id": "ql_bBqccbEsv",
        "colab": {
          "base_uri": "https://localhost:8080/"
        },
        "outputId": "9a1e71f3-dfa1-4068-e1d6-14cbddd63222"
      },
      "source": [
        "df3.values"
      ],
      "execution_count": null,
      "outputs": [
        {
          "output_type": "execute_result",
          "data": {
            "text/plain": [
              "array([[2005, '22-09-2015', 'bottled beer'],\n",
              "       [2005, '20-04-2015', 'pork'],\n",
              "       [2005, '22-09-2015', 'jam'],\n",
              "       [2005, '18-10-2014', 'mustard'],\n",
              "       [2005, '22-11-2014', 'brown bread'],\n",
              "       [2005, '22-09-2015', 'male cosmetics'],\n",
              "       [2005, '20-04-2015', 'yogurt'],\n",
              "       [2005, '22-09-2015', 'dessert'],\n",
              "       [2005, '18-10-2014', 'yogurt'],\n",
              "       [2005, '22-11-2014', 'rolls/buns'],\n",
              "       [2005, '18-10-2014', 'cat food'],\n",
              "       [2005, '18-10-2014', 'bottled beer'],\n",
              "       [2005, '20-04-2015', 'soda']], dtype=object)"
            ]
          },
          "metadata": {},
          "execution_count": 25
        }
      ]
    },
    {
      "cell_type": "code",
      "metadata": {
        "execution": {
          "iopub.execute_input": "2020-12-28T08:40:40.450858Z",
          "iopub.status.busy": "2020-12-28T08:40:40.449992Z",
          "iopub.status.idle": "2020-12-28T08:40:42.736491Z",
          "shell.execute_reply": "2020-12-28T08:40:42.735758Z"
        },
        "papermill": {
          "duration": 2.358551,
          "end_time": "2020-12-28T08:40:42.736646",
          "exception": false,
          "start_time": "2020-12-28T08:40:40.378095",
          "status": "completed"
        },
        "tags": [],
        "id": "k37eoRQrbEsw"
      },
      "source": [
        "transactions = [a[1]['itemDescription'].tolist() for a in list(df3.groupby(['Date']))]"
      ],
      "execution_count": null,
      "outputs": []
    },
    {
      "cell_type": "code",
      "metadata": {
        "execution": {
          "iopub.execute_input": "2020-12-28T08:40:42.892070Z",
          "iopub.status.busy": "2020-12-28T08:40:42.887062Z",
          "iopub.status.idle": "2020-12-28T08:40:42.961974Z",
          "shell.execute_reply": "2020-12-28T08:40:42.961242Z"
        },
        "papermill": {
          "duration": 0.157527,
          "end_time": "2020-12-28T08:40:42.962083",
          "exception": false,
          "start_time": "2020-12-28T08:40:42.804556",
          "status": "completed"
        },
        "tags": [],
        "id": "Pc-NlavIbEsx",
        "colab": {
          "base_uri": "https://localhost:8080/"
        },
        "outputId": "f48451e8-f164-487a-b33c-61ba0567d64c"
      },
      "source": [
        "transactions"
      ],
      "execution_count": null,
      "outputs": [
        {
          "output_type": "execute_result",
          "data": {
            "text/plain": [
              "[['mustard', 'yogurt', 'cat food', 'bottled beer'],\n",
              " ['pork', 'yogurt', 'soda'],\n",
              " ['bottled beer', 'jam', 'male cosmetics', 'dessert'],\n",
              " ['brown bread', 'rolls/buns']]"
            ]
          },
          "metadata": {},
          "execution_count": 27
        }
      ]
    },
    {
      "cell_type": "code",
      "metadata": {
        "execution": {
          "iopub.execute_input": "2020-12-28T08:40:43.067325Z",
          "iopub.status.busy": "2020-12-28T08:40:43.066696Z",
          "iopub.status.idle": "2020-12-28T08:40:44.003735Z",
          "shell.execute_reply": "2020-12-28T08:40:44.004261Z"
        },
        "papermill": {
          "duration": 0.991437,
          "end_time": "2020-12-28T08:40:44.004458",
          "exception": false,
          "start_time": "2020-12-28T08:40:43.013021",
          "status": "completed"
        },
        "tags": [],
        "id": "2AbFpyHybEsx"
      },
      "source": [
        "from mlxtend.preprocessing import TransactionEncoder"
      ],
      "execution_count": null,
      "outputs": []
    },
    {
      "cell_type": "code",
      "metadata": {
        "execution": {
          "iopub.execute_input": "2020-12-28T08:40:44.209812Z",
          "iopub.status.busy": "2020-12-28T08:40:44.209052Z",
          "iopub.status.idle": "2020-12-28T08:40:44.212025Z",
          "shell.execute_reply": "2020-12-28T08:40:44.211160Z"
        },
        "papermill": {
          "duration": 0.058051,
          "end_time": "2020-12-28T08:40:44.212138",
          "exception": false,
          "start_time": "2020-12-28T08:40:44.154087",
          "status": "completed"
        },
        "tags": [],
        "id": "jQHK-V3FbEsx"
      },
      "source": [
        "te = TransactionEncoder()"
      ],
      "execution_count": null,
      "outputs": []
    },
    {
      "cell_type": "code",
      "metadata": {
        "execution": {
          "iopub.execute_input": "2020-12-28T08:40:44.323835Z",
          "iopub.status.busy": "2020-12-28T08:40:44.320622Z",
          "iopub.status.idle": "2020-12-28T08:40:44.343303Z",
          "shell.execute_reply": "2020-12-28T08:40:44.342651Z"
        },
        "papermill": {
          "duration": 0.081236,
          "end_time": "2020-12-28T08:40:44.343412",
          "exception": false,
          "start_time": "2020-12-28T08:40:44.262176",
          "status": "completed"
        },
        "tags": [],
        "id": "glHFha_3bEsy"
      },
      "source": [
        "te_ary = te.fit(transactions).transform(transactions)"
      ],
      "execution_count": null,
      "outputs": []
    },
    {
      "cell_type": "code",
      "metadata": {
        "execution": {
          "iopub.execute_input": "2020-12-28T08:40:44.451836Z",
          "iopub.status.busy": "2020-12-28T08:40:44.450951Z",
          "iopub.status.idle": "2020-12-28T08:40:44.456715Z",
          "shell.execute_reply": "2020-12-28T08:40:44.456078Z"
        },
        "papermill": {
          "duration": 0.063583,
          "end_time": "2020-12-28T08:40:44.456816",
          "exception": false,
          "start_time": "2020-12-28T08:40:44.393233",
          "status": "completed"
        },
        "tags": [],
        "id": "TaJaReFLbEsy",
        "colab": {
          "base_uri": "https://localhost:8080/"
        },
        "outputId": "b3f49f0a-5f0f-4f12-cc74-8b9bcc2a5d97"
      },
      "source": [
        "te.columns_"
      ],
      "execution_count": null,
      "outputs": [
        {
          "output_type": "execute_result",
          "data": {
            "text/plain": [
              "['bottled beer',\n",
              " 'brown bread',\n",
              " 'cat food',\n",
              " 'dessert',\n",
              " 'jam',\n",
              " 'male cosmetics',\n",
              " 'mustard',\n",
              " 'pork',\n",
              " 'rolls/buns',\n",
              " 'soda',\n",
              " 'yogurt']"
            ]
          },
          "metadata": {},
          "execution_count": 31
        }
      ]
    },
    {
      "cell_type": "code",
      "metadata": {
        "id": "PjE_3I-e5ZHD",
        "colab": {
          "base_uri": "https://localhost:8080/"
        },
        "outputId": "a1bd2288-cd7d-43a2-9220-3716e9103070"
      },
      "source": [
        "te_ary"
      ],
      "execution_count": null,
      "outputs": [
        {
          "output_type": "execute_result",
          "data": {
            "text/plain": [
              "array([[ True, False,  True, False, False, False,  True, False, False,\n",
              "        False,  True],\n",
              "       [False, False, False, False, False, False, False,  True, False,\n",
              "         True,  True],\n",
              "       [ True, False, False,  True,  True,  True, False, False, False,\n",
              "        False, False],\n",
              "       [False,  True, False, False, False, False, False, False,  True,\n",
              "        False, False]])"
            ]
          },
          "metadata": {},
          "execution_count": 32
        }
      ]
    },
    {
      "cell_type": "code",
      "metadata": {
        "execution": {
          "iopub.execute_input": "2020-12-28T08:40:44.678155Z",
          "iopub.status.busy": "2020-12-28T08:40:44.674722Z",
          "iopub.status.idle": "2020-12-28T08:40:45.091415Z",
          "shell.execute_reply": "2020-12-28T08:40:45.091942Z"
        },
        "papermill": {
          "duration": 0.474826,
          "end_time": "2020-12-28T08:40:45.092095",
          "exception": false,
          "start_time": "2020-12-28T08:40:44.617269",
          "status": "completed"
        },
        "tags": [],
        "id": "mBBaQ7XAbEsy",
        "colab": {
          "base_uri": "https://localhost:8080/",
          "height": 174
        },
        "outputId": "6288122f-7297-455b-ec41-aa3872963588"
      },
      "source": [
        "transactions = pd.DataFrame(te_ary, columns=te.columns_)\n",
        "transactions"
      ],
      "execution_count": null,
      "outputs": [
        {
          "output_type": "execute_result",
          "data": {
            "text/html": [
              "<div>\n",
              "<style scoped>\n",
              "    .dataframe tbody tr th:only-of-type {\n",
              "        vertical-align: middle;\n",
              "    }\n",
              "\n",
              "    .dataframe tbody tr th {\n",
              "        vertical-align: top;\n",
              "    }\n",
              "\n",
              "    .dataframe thead th {\n",
              "        text-align: right;\n",
              "    }\n",
              "</style>\n",
              "<table border=\"1\" class=\"dataframe\">\n",
              "  <thead>\n",
              "    <tr style=\"text-align: right;\">\n",
              "      <th></th>\n",
              "      <th>bottled beer</th>\n",
              "      <th>brown bread</th>\n",
              "      <th>cat food</th>\n",
              "      <th>dessert</th>\n",
              "      <th>jam</th>\n",
              "      <th>male cosmetics</th>\n",
              "      <th>mustard</th>\n",
              "      <th>pork</th>\n",
              "      <th>rolls/buns</th>\n",
              "      <th>soda</th>\n",
              "      <th>yogurt</th>\n",
              "    </tr>\n",
              "  </thead>\n",
              "  <tbody>\n",
              "    <tr>\n",
              "      <th>0</th>\n",
              "      <td>True</td>\n",
              "      <td>False</td>\n",
              "      <td>True</td>\n",
              "      <td>False</td>\n",
              "      <td>False</td>\n",
              "      <td>False</td>\n",
              "      <td>True</td>\n",
              "      <td>False</td>\n",
              "      <td>False</td>\n",
              "      <td>False</td>\n",
              "      <td>True</td>\n",
              "    </tr>\n",
              "    <tr>\n",
              "      <th>1</th>\n",
              "      <td>False</td>\n",
              "      <td>False</td>\n",
              "      <td>False</td>\n",
              "      <td>False</td>\n",
              "      <td>False</td>\n",
              "      <td>False</td>\n",
              "      <td>False</td>\n",
              "      <td>True</td>\n",
              "      <td>False</td>\n",
              "      <td>True</td>\n",
              "      <td>True</td>\n",
              "    </tr>\n",
              "    <tr>\n",
              "      <th>2</th>\n",
              "      <td>True</td>\n",
              "      <td>False</td>\n",
              "      <td>False</td>\n",
              "      <td>True</td>\n",
              "      <td>True</td>\n",
              "      <td>True</td>\n",
              "      <td>False</td>\n",
              "      <td>False</td>\n",
              "      <td>False</td>\n",
              "      <td>False</td>\n",
              "      <td>False</td>\n",
              "    </tr>\n",
              "    <tr>\n",
              "      <th>3</th>\n",
              "      <td>False</td>\n",
              "      <td>True</td>\n",
              "      <td>False</td>\n",
              "      <td>False</td>\n",
              "      <td>False</td>\n",
              "      <td>False</td>\n",
              "      <td>False</td>\n",
              "      <td>False</td>\n",
              "      <td>True</td>\n",
              "      <td>False</td>\n",
              "      <td>False</td>\n",
              "    </tr>\n",
              "  </tbody>\n",
              "</table>\n",
              "</div>"
            ],
            "text/plain": [
              "   bottled beer  brown bread  cat food  ...  rolls/buns   soda  yogurt\n",
              "0          True        False      True  ...       False  False    True\n",
              "1         False        False     False  ...       False   True    True\n",
              "2          True        False     False  ...       False  False   False\n",
              "3         False         True     False  ...        True  False   False\n",
              "\n",
              "[4 rows x 11 columns]"
            ]
          },
          "metadata": {},
          "execution_count": 33
        }
      ]
    },
    {
      "cell_type": "code",
      "metadata": {
        "execution": {
          "iopub.execute_input": "2020-12-28T08:40:45.197887Z",
          "iopub.status.busy": "2020-12-28T08:40:45.197237Z",
          "iopub.status.idle": "2020-12-28T08:40:45.236719Z",
          "shell.execute_reply": "2020-12-28T08:40:45.236026Z"
        },
        "papermill": {
          "duration": 0.092726,
          "end_time": "2020-12-28T08:40:45.236829",
          "exception": false,
          "start_time": "2020-12-28T08:40:45.144103",
          "status": "completed"
        },
        "tags": [],
        "id": "utvgtIszbEsy",
        "colab": {
          "base_uri": "https://localhost:8080/",
          "height": 174
        },
        "outputId": "1f66c4e5-8e92-4938-c140-c71ee02744c5"
      },
      "source": [
        "#Count is the total no of transactions in each colums, and freq is the no of times *TOP variable* appeared in that column \n",
        "pf = transactions.describe()\n",
        "pf"
      ],
      "execution_count": null,
      "outputs": [
        {
          "output_type": "execute_result",
          "data": {
            "text/html": [
              "<div>\n",
              "<style scoped>\n",
              "    .dataframe tbody tr th:only-of-type {\n",
              "        vertical-align: middle;\n",
              "    }\n",
              "\n",
              "    .dataframe tbody tr th {\n",
              "        vertical-align: top;\n",
              "    }\n",
              "\n",
              "    .dataframe thead th {\n",
              "        text-align: right;\n",
              "    }\n",
              "</style>\n",
              "<table border=\"1\" class=\"dataframe\">\n",
              "  <thead>\n",
              "    <tr style=\"text-align: right;\">\n",
              "      <th></th>\n",
              "      <th>bottled beer</th>\n",
              "      <th>brown bread</th>\n",
              "      <th>cat food</th>\n",
              "      <th>dessert</th>\n",
              "      <th>jam</th>\n",
              "      <th>male cosmetics</th>\n",
              "      <th>mustard</th>\n",
              "      <th>pork</th>\n",
              "      <th>rolls/buns</th>\n",
              "      <th>soda</th>\n",
              "      <th>yogurt</th>\n",
              "    </tr>\n",
              "  </thead>\n",
              "  <tbody>\n",
              "    <tr>\n",
              "      <th>count</th>\n",
              "      <td>4</td>\n",
              "      <td>4</td>\n",
              "      <td>4</td>\n",
              "      <td>4</td>\n",
              "      <td>4</td>\n",
              "      <td>4</td>\n",
              "      <td>4</td>\n",
              "      <td>4</td>\n",
              "      <td>4</td>\n",
              "      <td>4</td>\n",
              "      <td>4</td>\n",
              "    </tr>\n",
              "    <tr>\n",
              "      <th>unique</th>\n",
              "      <td>2</td>\n",
              "      <td>2</td>\n",
              "      <td>2</td>\n",
              "      <td>2</td>\n",
              "      <td>2</td>\n",
              "      <td>2</td>\n",
              "      <td>2</td>\n",
              "      <td>2</td>\n",
              "      <td>2</td>\n",
              "      <td>2</td>\n",
              "      <td>2</td>\n",
              "    </tr>\n",
              "    <tr>\n",
              "      <th>top</th>\n",
              "      <td>True</td>\n",
              "      <td>False</td>\n",
              "      <td>False</td>\n",
              "      <td>False</td>\n",
              "      <td>False</td>\n",
              "      <td>False</td>\n",
              "      <td>False</td>\n",
              "      <td>False</td>\n",
              "      <td>False</td>\n",
              "      <td>False</td>\n",
              "      <td>True</td>\n",
              "    </tr>\n",
              "    <tr>\n",
              "      <th>freq</th>\n",
              "      <td>2</td>\n",
              "      <td>3</td>\n",
              "      <td>3</td>\n",
              "      <td>3</td>\n",
              "      <td>3</td>\n",
              "      <td>3</td>\n",
              "      <td>3</td>\n",
              "      <td>3</td>\n",
              "      <td>3</td>\n",
              "      <td>3</td>\n",
              "      <td>2</td>\n",
              "    </tr>\n",
              "  </tbody>\n",
              "</table>\n",
              "</div>"
            ],
            "text/plain": [
              "       bottled beer brown bread cat food  ... rolls/buns   soda yogurt\n",
              "count             4           4        4  ...          4      4      4\n",
              "unique            2           2        2  ...          2      2      2\n",
              "top            True       False    False  ...      False  False   True\n",
              "freq              2           3        3  ...          3      3      2\n",
              "\n",
              "[4 rows x 11 columns]"
            ]
          },
          "metadata": {},
          "execution_count": 34
        }
      ]
    },
    {
      "cell_type": "code",
      "metadata": {
        "execution": {
          "iopub.execute_input": "2020-12-28T08:40:45.373424Z",
          "iopub.status.busy": "2020-12-28T08:40:45.372703Z",
          "iopub.status.idle": "2020-12-28T08:40:45.378154Z",
          "shell.execute_reply": "2020-12-28T08:40:45.377149Z"
        },
        "papermill": {
          "duration": 0.079966,
          "end_time": "2020-12-28T08:40:45.378362",
          "exception": false,
          "start_time": "2020-12-28T08:40:45.298396",
          "status": "completed"
        },
        "tags": [],
        "id": "zmdz806VbEsy",
        "colab": {
          "base_uri": "https://localhost:8080/"
        },
        "outputId": "fb24f6d9-56f7-4774-fad5-beb01a967c3c"
      },
      "source": [
        "#Count - Freq from above table - to find no of TRUE values\n",
        "pf.iloc[0]-pf.iloc[3]"
      ],
      "execution_count": null,
      "outputs": [
        {
          "output_type": "execute_result",
          "data": {
            "text/plain": [
              "bottled beer      2\n",
              "brown bread       1\n",
              "cat food          1\n",
              "dessert           1\n",
              "jam               1\n",
              "male cosmetics    1\n",
              "mustard           1\n",
              "pork              1\n",
              "rolls/buns        1\n",
              "soda              1\n",
              "yogurt            2\n",
              "dtype: object"
            ]
          },
          "metadata": {},
          "execution_count": 35
        }
      ]
    },
    {
      "cell_type": "code",
      "metadata": {
        "execution": {
          "iopub.execute_input": "2020-12-28T08:40:45.543063Z",
          "iopub.status.busy": "2020-12-28T08:40:45.542453Z",
          "iopub.status.idle": "2020-12-28T08:40:45.573631Z",
          "shell.execute_reply": "2020-12-28T08:40:45.573213Z"
        },
        "papermill": {
          "duration": 0.118885,
          "end_time": "2020-12-28T08:40:45.573713",
          "exception": false,
          "start_time": "2020-12-28T08:40:45.454828",
          "status": "completed"
        },
        "tags": [],
        "id": "bXgp_s7XbEsz"
      },
      "source": [
        "f = pf.iloc[0]-pf.iloc[3]\n",
        "a = f.tolist()\n",
        "b = list(f.index)\n",
        "item = pd.DataFrame([[a[r],b[r]]for r in range(len(a))], columns=['Count','Item'])\n",
        "item = item.sort_values(['Count'], ascending=False)"
      ],
      "execution_count": null,
      "outputs": []
    },
    {
      "cell_type": "code",
      "metadata": {
        "execution": {
          "iopub.execute_input": "2020-12-28T08:40:45.652361Z",
          "iopub.status.busy": "2020-12-28T08:40:45.651680Z",
          "iopub.status.idle": "2020-12-28T08:40:45.662353Z",
          "shell.execute_reply": "2020-12-28T08:40:45.661701Z"
        },
        "papermill": {
          "duration": 0.050883,
          "end_time": "2020-12-28T08:40:45.662466",
          "exception": false,
          "start_time": "2020-12-28T08:40:45.611583",
          "status": "completed"
        },
        "tags": [],
        "id": "8UCdVkKNbEsz",
        "colab": {
          "base_uri": "https://localhost:8080/",
          "height": 394
        },
        "outputId": "28986630-c1a2-4da7-8465-a89e366e741f"
      },
      "source": [
        "item"
      ],
      "execution_count": null,
      "outputs": [
        {
          "output_type": "execute_result",
          "data": {
            "text/html": [
              "<div>\n",
              "<style scoped>\n",
              "    .dataframe tbody tr th:only-of-type {\n",
              "        vertical-align: middle;\n",
              "    }\n",
              "\n",
              "    .dataframe tbody tr th {\n",
              "        vertical-align: top;\n",
              "    }\n",
              "\n",
              "    .dataframe thead th {\n",
              "        text-align: right;\n",
              "    }\n",
              "</style>\n",
              "<table border=\"1\" class=\"dataframe\">\n",
              "  <thead>\n",
              "    <tr style=\"text-align: right;\">\n",
              "      <th></th>\n",
              "      <th>Count</th>\n",
              "      <th>Item</th>\n",
              "    </tr>\n",
              "  </thead>\n",
              "  <tbody>\n",
              "    <tr>\n",
              "      <th>0</th>\n",
              "      <td>2</td>\n",
              "      <td>bottled beer</td>\n",
              "    </tr>\n",
              "    <tr>\n",
              "      <th>10</th>\n",
              "      <td>2</td>\n",
              "      <td>yogurt</td>\n",
              "    </tr>\n",
              "    <tr>\n",
              "      <th>1</th>\n",
              "      <td>1</td>\n",
              "      <td>brown bread</td>\n",
              "    </tr>\n",
              "    <tr>\n",
              "      <th>2</th>\n",
              "      <td>1</td>\n",
              "      <td>cat food</td>\n",
              "    </tr>\n",
              "    <tr>\n",
              "      <th>3</th>\n",
              "      <td>1</td>\n",
              "      <td>dessert</td>\n",
              "    </tr>\n",
              "    <tr>\n",
              "      <th>4</th>\n",
              "      <td>1</td>\n",
              "      <td>jam</td>\n",
              "    </tr>\n",
              "    <tr>\n",
              "      <th>5</th>\n",
              "      <td>1</td>\n",
              "      <td>male cosmetics</td>\n",
              "    </tr>\n",
              "    <tr>\n",
              "      <th>6</th>\n",
              "      <td>1</td>\n",
              "      <td>mustard</td>\n",
              "    </tr>\n",
              "    <tr>\n",
              "      <th>7</th>\n",
              "      <td>1</td>\n",
              "      <td>pork</td>\n",
              "    </tr>\n",
              "    <tr>\n",
              "      <th>8</th>\n",
              "      <td>1</td>\n",
              "      <td>rolls/buns</td>\n",
              "    </tr>\n",
              "    <tr>\n",
              "      <th>9</th>\n",
              "      <td>1</td>\n",
              "      <td>soda</td>\n",
              "    </tr>\n",
              "  </tbody>\n",
              "</table>\n",
              "</div>"
            ],
            "text/plain": [
              "    Count            Item\n",
              "0       2    bottled beer\n",
              "10      2          yogurt\n",
              "1       1     brown bread\n",
              "2       1        cat food\n",
              "3       1         dessert\n",
              "4       1             jam\n",
              "5       1  male cosmetics\n",
              "6       1         mustard\n",
              "7       1            pork\n",
              "8       1      rolls/buns\n",
              "9       1            soda"
            ]
          },
          "metadata": {},
          "execution_count": 37
        }
      ]
    },
    {
      "cell_type": "code",
      "metadata": {
        "execution": {
          "iopub.execute_input": "2020-12-28T08:40:45.780509Z",
          "iopub.status.busy": "2020-12-28T08:40:45.779827Z",
          "iopub.status.idle": "2020-12-28T08:40:47.901944Z",
          "shell.execute_reply": "2020-12-28T08:40:47.902644Z"
        },
        "papermill": {
          "duration": 2.186095,
          "end_time": "2020-12-28T08:40:47.902810",
          "exception": false,
          "start_time": "2020-12-28T08:40:45.716715",
          "status": "completed"
        },
        "tags": [],
        "id": "zlSd-n73bEsz",
        "colab": {
          "base_uri": "https://localhost:8080/",
          "height": 487
        },
        "outputId": "875c426c-4f1e-40aa-a265-3ba7ebf45316"
      },
      "source": [
        "import matplotlib.pyplot as plt\n",
        "import seaborn as sns\n",
        "\n",
        "from wordcloud import WordCloud\n",
        "\n",
        "plt.rcParams['figure.figsize'] = (8, 8)\n",
        "wordcloud = WordCloud(background_color = 'white', width = 1200,  height = 1200, max_words = 121).generate(str(item['Item']))\n",
        "plt.imshow(wordcloud)\n",
        "plt.axis('off')\n",
        "plt.title('Items',fontsize = 20)\n",
        "plt.show()"
      ],
      "execution_count": null,
      "outputs": [
        {
          "output_type": "display_data",
          "data": {
            "image/png": "[encoded data removed]",
            "text/plain": [
              "<Figure size 576x576 with 1 Axes>"
            ]
          },
          "metadata": {
            "needs_background": "light"
          }
        }
      ]
    },
    {
      "cell_type": "code",
      "metadata": {
        "execution": {
          "iopub.execute_input": "2020-12-28T08:40:48.468269Z",
          "iopub.status.busy": "2020-12-28T08:40:48.467669Z",
          "iopub.status.idle": "2020-12-28T08:40:48.480173Z",
          "shell.execute_reply": "2020-12-28T08:40:48.479567Z"
        },
        "papermill": {
          "duration": 0.083547,
          "end_time": "2020-12-28T08:40:48.480275",
          "exception": false,
          "start_time": "2020-12-28T08:40:48.396728",
          "status": "completed"
        },
        "tags": [],
        "id": "xCfRCAo7bEs0"
      },
      "source": [
        "from mlxtend.frequent_patterns import apriori, association_rules\n",
        "import matplotlib.pyplot as plt"
      ],
      "execution_count": null,
      "outputs": []
    },
    {
      "cell_type": "code",
      "metadata": {
        "execution": {
          "iopub.execute_input": "2020-12-28T08:40:48.751959Z",
          "iopub.status.busy": "2020-12-28T08:40:48.751371Z",
          "iopub.status.idle": "2020-12-28T08:40:50.400679Z",
          "shell.execute_reply": "2020-12-28T08:40:50.399829Z"
        },
        "papermill": {
          "duration": 1.722863,
          "end_time": "2020-12-28T08:40:50.400824",
          "exception": false,
          "start_time": "2020-12-28T08:40:48.677961",
          "status": "completed"
        },
        "tags": [],
        "id": "qOvw0lznbEs0"
      },
      "source": [
        "freq_items = apriori(transactions, min_support=0.001, use_colnames=True)\n",
        "#support = particular itemset/ total no of transactions"
      ],
      "execution_count": null,
      "outputs": []
    },
    {
      "cell_type": "code",
      "metadata": {
        "id": "1zkg03afFC4a",
        "colab": {
          "base_uri": "https://localhost:8080/"
        },
        "outputId": "0a780cbd-5d16-4d25-aa2c-853e95b12175"
      },
      "source": [
        "freq_items.shape"
      ],
      "execution_count": null,
      "outputs": [
        {
          "output_type": "execute_result",
          "data": {
            "text/plain": [
              "(38, 2)"
            ]
          },
          "metadata": {},
          "execution_count": 41
        }
      ]
    },
    {
      "cell_type": "code",
      "metadata": {
        "id": "nnxSxpnDFHpI",
        "colab": {
          "base_uri": "https://localhost:8080/",
          "height": 363
        },
        "outputId": "96ff7e9b-f58d-413f-b7fe-22c95a1d3f8a"
      },
      "source": [
        "freq_items.head(10)"
      ],
      "execution_count": null,
      "outputs": [
        {
          "output_type": "execute_result",
          "data": {
            "text/html": [
              "<div>\n",
              "<style scoped>\n",
              "    .dataframe tbody tr th:only-of-type {\n",
              "        vertical-align: middle;\n",
              "    }\n",
              "\n",
              "    .dataframe tbody tr th {\n",
              "        vertical-align: top;\n",
              "    }\n",
              "\n",
              "    .dataframe thead th {\n",
              "        text-align: right;\n",
              "    }\n",
              "</style>\n",
              "<table border=\"1\" class=\"dataframe\">\n",
              "  <thead>\n",
              "    <tr style=\"text-align: right;\">\n",
              "      <th></th>\n",
              "      <th>support</th>\n",
              "      <th>itemsets</th>\n",
              "    </tr>\n",
              "  </thead>\n",
              "  <tbody>\n",
              "    <tr>\n",
              "      <th>0</th>\n",
              "      <td>0.50</td>\n",
              "      <td>(bottled beer)</td>\n",
              "    </tr>\n",
              "    <tr>\n",
              "      <th>1</th>\n",
              "      <td>0.25</td>\n",
              "      <td>(brown bread)</td>\n",
              "    </tr>\n",
              "    <tr>\n",
              "      <th>2</th>\n",
              "      <td>0.25</td>\n",
              "      <td>(cat food)</td>\n",
              "    </tr>\n",
              "    <tr>\n",
              "      <th>3</th>\n",
              "      <td>0.25</td>\n",
              "      <td>(dessert)</td>\n",
              "    </tr>\n",
              "    <tr>\n",
              "      <th>4</th>\n",
              "      <td>0.25</td>\n",
              "      <td>(jam)</td>\n",
              "    </tr>\n",
              "    <tr>\n",
              "      <th>5</th>\n",
              "      <td>0.25</td>\n",
              "      <td>(male cosmetics)</td>\n",
              "    </tr>\n",
              "    <tr>\n",
              "      <th>6</th>\n",
              "      <td>0.25</td>\n",
              "      <td>(mustard)</td>\n",
              "    </tr>\n",
              "    <tr>\n",
              "      <th>7</th>\n",
              "      <td>0.25</td>\n",
              "      <td>(pork)</td>\n",
              "    </tr>\n",
              "    <tr>\n",
              "      <th>8</th>\n",
              "      <td>0.25</td>\n",
              "      <td>(rolls/buns)</td>\n",
              "    </tr>\n",
              "    <tr>\n",
              "      <th>9</th>\n",
              "      <td>0.25</td>\n",
              "      <td>(soda)</td>\n",
              "    </tr>\n",
              "  </tbody>\n",
              "</table>\n",
              "</div>"
            ],
            "text/plain": [
              "   support          itemsets\n",
              "0     0.50    (bottled beer)\n",
              "1     0.25     (brown bread)\n",
              "2     0.25        (cat food)\n",
              "3     0.25         (dessert)\n",
              "4     0.25             (jam)\n",
              "5     0.25  (male cosmetics)\n",
              "6     0.25         (mustard)\n",
              "7     0.25            (pork)\n",
              "8     0.25      (rolls/buns)\n",
              "9     0.25            (soda)"
            ]
          },
          "metadata": {},
          "execution_count": 42
        }
      ]
    },
    {
      "cell_type": "code",
      "metadata": {
        "execution": {
          "iopub.execute_input": "2020-12-28T08:40:50.598536Z",
          "iopub.status.busy": "2020-12-28T08:40:50.597483Z",
          "iopub.status.idle": "2020-12-28T08:40:50.601715Z",
          "shell.execute_reply": "2020-12-28T08:40:50.601114Z"
        },
        "papermill": {
          "duration": 0.105405,
          "end_time": "2020-12-28T08:40:50.601834",
          "exception": false,
          "start_time": "2020-12-28T08:40:50.496429",
          "status": "completed"
        },
        "tags": [],
        "id": "jcFVF-0VbEs0"
      },
      "source": [
        "freq_items['length'] = freq_items['itemsets'].apply(lambda x: len(x))"
      ],
      "execution_count": null,
      "outputs": []
    },
    {
      "cell_type": "code",
      "metadata": {
        "id": "IJEqn0uaFPun",
        "colab": {
          "base_uri": "https://localhost:8080/"
        },
        "outputId": "42b856f5-41f2-4f3e-b5bd-0542a17adcf1"
      },
      "source": [
        "freq_items['length'].unique()"
      ],
      "execution_count": null,
      "outputs": [
        {
          "output_type": "execute_result",
          "data": {
            "text/plain": [
              "array([1, 2, 3, 4])"
            ]
          },
          "metadata": {},
          "execution_count": 44
        }
      ]
    },
    {
      "cell_type": "code",
      "metadata": {
        "execution": {
          "iopub.execute_input": "2020-12-28T08:40:50.758713Z",
          "iopub.status.busy": "2020-12-28T08:40:50.758056Z",
          "iopub.status.idle": "2020-12-28T08:40:50.763896Z",
          "shell.execute_reply": "2020-12-28T08:40:50.762704Z"
        },
        "papermill": {
          "duration": 0.088098,
          "end_time": "2020-12-28T08:40:50.764007",
          "exception": false,
          "start_time": "2020-12-28T08:40:50.675909",
          "status": "completed"
        },
        "tags": [],
        "id": "5d_a1tqBbEs0",
        "colab": {
          "base_uri": "https://localhost:8080/",
          "height": 1000
        },
        "outputId": "096135a7-6b3f-40e9-d7dd-747d5c5fbab2"
      },
      "source": [
        "freq_items.head(100)"
      ],
      "execution_count": null,
      "outputs": [
        {
          "output_type": "execute_result",
          "data": {
            "text/html": [
              "<div>\n",
              "<style scoped>\n",
              "    .dataframe tbody tr th:only-of-type {\n",
              "        vertical-align: middle;\n",
              "    }\n",
              "\n",
              "    .dataframe tbody tr th {\n",
              "        vertical-align: top;\n",
              "    }\n",
              "\n",
              "    .dataframe thead th {\n",
              "        text-align: right;\n",
              "    }\n",
              "</style>\n",
              "<table border=\"1\" class=\"dataframe\">\n",
              "  <thead>\n",
              "    <tr style=\"text-align: right;\">\n",
              "      <th></th>\n",
              "      <th>support</th>\n",
              "      <th>itemsets</th>\n",
              "      <th>length</th>\n",
              "    </tr>\n",
              "  </thead>\n",
              "  <tbody>\n",
              "    <tr>\n",
              "      <th>0</th>\n",
              "      <td>0.50</td>\n",
              "      <td>(bottled beer)</td>\n",
              "      <td>1</td>\n",
              "    </tr>\n",
              "    <tr>\n",
              "      <th>1</th>\n",
              "      <td>0.25</td>\n",
              "      <td>(brown bread)</td>\n",
              "      <td>1</td>\n",
              "    </tr>\n",
              "    <tr>\n",
              "      <th>2</th>\n",
              "      <td>0.25</td>\n",
              "      <td>(cat food)</td>\n",
              "      <td>1</td>\n",
              "    </tr>\n",
              "    <tr>\n",
              "      <th>3</th>\n",
              "      <td>0.25</td>\n",
              "      <td>(dessert)</td>\n",
              "      <td>1</td>\n",
              "    </tr>\n",
              "    <tr>\n",
              "      <th>4</th>\n",
              "      <td>0.25</td>\n",
              "      <td>(jam)</td>\n",
              "      <td>1</td>\n",
              "    </tr>\n",
              "    <tr>\n",
              "      <th>5</th>\n",
              "      <td>0.25</td>\n",
              "      <td>(male cosmetics)</td>\n",
              "      <td>1</td>\n",
              "    </tr>\n",
              "    <tr>\n",
              "      <th>6</th>\n",
              "      <td>0.25</td>\n",
              "      <td>(mustard)</td>\n",
              "      <td>1</td>\n",
              "    </tr>\n",
              "    <tr>\n",
              "      <th>7</th>\n",
              "      <td>0.25</td>\n",
              "      <td>(pork)</td>\n",
              "      <td>1</td>\n",
              "    </tr>\n",
              "    <tr>\n",
              "      <th>8</th>\n",
              "      <td>0.25</td>\n",
              "      <td>(rolls/buns)</td>\n",
              "      <td>1</td>\n",
              "    </tr>\n",
              "    <tr>\n",
              "      <th>9</th>\n",
              "      <td>0.25</td>\n",
              "      <td>(soda)</td>\n",
              "      <td>1</td>\n",
              "    </tr>\n",
              "    <tr>\n",
              "      <th>10</th>\n",
              "      <td>0.50</td>\n",
              "      <td>(yogurt)</td>\n",
              "      <td>1</td>\n",
              "    </tr>\n",
              "    <tr>\n",
              "      <th>11</th>\n",
              "      <td>0.25</td>\n",
              "      <td>(cat food, bottled beer)</td>\n",
              "      <td>2</td>\n",
              "    </tr>\n",
              "    <tr>\n",
              "      <th>12</th>\n",
              "      <td>0.25</td>\n",
              "      <td>(dessert, bottled beer)</td>\n",
              "      <td>2</td>\n",
              "    </tr>\n",
              "    <tr>\n",
              "      <th>13</th>\n",
              "      <td>0.25</td>\n",
              "      <td>(jam, bottled beer)</td>\n",
              "      <td>2</td>\n",
              "    </tr>\n",
              "    <tr>\n",
              "      <th>14</th>\n",
              "      <td>0.25</td>\n",
              "      <td>(male cosmetics, bottled beer)</td>\n",
              "      <td>2</td>\n",
              "    </tr>\n",
              "    <tr>\n",
              "      <th>15</th>\n",
              "      <td>0.25</td>\n",
              "      <td>(mustard, bottled beer)</td>\n",
              "      <td>2</td>\n",
              "    </tr>\n",
              "    <tr>\n",
              "      <th>16</th>\n",
              "      <td>0.25</td>\n",
              "      <td>(yogurt, bottled beer)</td>\n",
              "      <td>2</td>\n",
              "    </tr>\n",
              "    <tr>\n",
              "      <th>17</th>\n",
              "      <td>0.25</td>\n",
              "      <td>(rolls/buns, brown bread)</td>\n",
              "      <td>2</td>\n",
              "    </tr>\n",
              "    <tr>\n",
              "      <th>18</th>\n",
              "      <td>0.25</td>\n",
              "      <td>(mustard, cat food)</td>\n",
              "      <td>2</td>\n",
              "    </tr>\n",
              "    <tr>\n",
              "      <th>19</th>\n",
              "      <td>0.25</td>\n",
              "      <td>(yogurt, cat food)</td>\n",
              "      <td>2</td>\n",
              "    </tr>\n",
              "    <tr>\n",
              "      <th>20</th>\n",
              "      <td>0.25</td>\n",
              "      <td>(dessert, jam)</td>\n",
              "      <td>2</td>\n",
              "    </tr>\n",
              "    <tr>\n",
              "      <th>21</th>\n",
              "      <td>0.25</td>\n",
              "      <td>(male cosmetics, dessert)</td>\n",
              "      <td>2</td>\n",
              "    </tr>\n",
              "    <tr>\n",
              "      <th>22</th>\n",
              "      <td>0.25</td>\n",
              "      <td>(male cosmetics, jam)</td>\n",
              "      <td>2</td>\n",
              "    </tr>\n",
              "    <tr>\n",
              "      <th>23</th>\n",
              "      <td>0.25</td>\n",
              "      <td>(mustard, yogurt)</td>\n",
              "      <td>2</td>\n",
              "    </tr>\n",
              "    <tr>\n",
              "      <th>24</th>\n",
              "      <td>0.25</td>\n",
              "      <td>(soda, pork)</td>\n",
              "      <td>2</td>\n",
              "    </tr>\n",
              "    <tr>\n",
              "      <th>25</th>\n",
              "      <td>0.25</td>\n",
              "      <td>(yogurt, pork)</td>\n",
              "      <td>2</td>\n",
              "    </tr>\n",
              "    <tr>\n",
              "      <th>26</th>\n",
              "      <td>0.25</td>\n",
              "      <td>(yogurt, soda)</td>\n",
              "      <td>2</td>\n",
              "    </tr>\n",
              "    <tr>\n",
              "      <th>27</th>\n",
              "      <td>0.25</td>\n",
              "      <td>(mustard, cat food, bottled beer)</td>\n",
              "      <td>3</td>\n",
              "    </tr>\n",
              "    <tr>\n",
              "      <th>28</th>\n",
              "      <td>0.25</td>\n",
              "      <td>(yogurt, cat food, bottled beer)</td>\n",
              "      <td>3</td>\n",
              "    </tr>\n",
              "    <tr>\n",
              "      <th>29</th>\n",
              "      <td>0.25</td>\n",
              "      <td>(dessert, bottled beer, jam)</td>\n",
              "      <td>3</td>\n",
              "    </tr>\n",
              "    <tr>\n",
              "      <th>30</th>\n",
              "      <td>0.25</td>\n",
              "      <td>(male cosmetics, dessert, bottled beer)</td>\n",
              "      <td>3</td>\n",
              "    </tr>\n",
              "    <tr>\n",
              "      <th>31</th>\n",
              "      <td>0.25</td>\n",
              "      <td>(male cosmetics, jam, bottled beer)</td>\n",
              "      <td>3</td>\n",
              "    </tr>\n",
              "    <tr>\n",
              "      <th>32</th>\n",
              "      <td>0.25</td>\n",
              "      <td>(mustard, yogurt, bottled beer)</td>\n",
              "      <td>3</td>\n",
              "    </tr>\n",
              "    <tr>\n",
              "      <th>33</th>\n",
              "      <td>0.25</td>\n",
              "      <td>(mustard, yogurt, cat food)</td>\n",
              "      <td>3</td>\n",
              "    </tr>\n",
              "    <tr>\n",
              "      <th>34</th>\n",
              "      <td>0.25</td>\n",
              "      <td>(male cosmetics, dessert, jam)</td>\n",
              "      <td>3</td>\n",
              "    </tr>\n",
              "    <tr>\n",
              "      <th>35</th>\n",
              "      <td>0.25</td>\n",
              "      <td>(yogurt, soda, pork)</td>\n",
              "      <td>3</td>\n",
              "    </tr>\n",
              "    <tr>\n",
              "      <th>36</th>\n",
              "      <td>0.25</td>\n",
              "      <td>(mustard, yogurt, cat food, bottled beer)</td>\n",
              "      <td>4</td>\n",
              "    </tr>\n",
              "    <tr>\n",
              "      <th>37</th>\n",
              "      <td>0.25</td>\n",
              "      <td>(male cosmetics, dessert, bottled beer, jam)</td>\n",
              "      <td>4</td>\n",
              "    </tr>\n",
              "  </tbody>\n",
              "</table>\n",
              "</div>"
            ],
            "text/plain": [
              "    support                                      itemsets  length\n",
              "0      0.50                                (bottled beer)       1\n",
              "1      0.25                                 (brown bread)       1\n",
              "2      0.25                                    (cat food)       1\n",
              "3      0.25                                     (dessert)       1\n",
              "4      0.25                                         (jam)       1\n",
              "5      0.25                              (male cosmetics)       1\n",
              "6      0.25                                     (mustard)       1\n",
              "7      0.25                                        (pork)       1\n",
              "8      0.25                                  (rolls/buns)       1\n",
              "9      0.25                                        (soda)       1\n",
              "10     0.50                                      (yogurt)       1\n",
              "11     0.25                      (cat food, bottled beer)       2\n",
              "12     0.25                       (dessert, bottled beer)       2\n",
              "13     0.25                           (jam, bottled beer)       2\n",
              "14     0.25                (male cosmetics, bottled beer)       2\n",
              "15     0.25                       (mustard, bottled beer)       2\n",
              "16     0.25                        (yogurt, bottled beer)       2\n",
              "17     0.25                     (rolls/buns, brown bread)       2\n",
              "18     0.25                           (mustard, cat food)       2\n",
              "19     0.25                            (yogurt, cat food)       2\n",
              "20     0.25                                (dessert, jam)       2\n",
              "21     0.25                     (male cosmetics, dessert)       2\n",
              "22     0.25                         (male cosmetics, jam)       2\n",
              "23     0.25                             (mustard, yogurt)       2\n",
              "24     0.25                                  (soda, pork)       2\n",
              "25     0.25                                (yogurt, pork)       2\n",
              "26     0.25                                (yogurt, soda)       2\n",
              "27     0.25             (mustard, cat food, bottled beer)       3\n",
              "28     0.25              (yogurt, cat food, bottled beer)       3\n",
              "29     0.25                  (dessert, bottled beer, jam)       3\n",
              "30     0.25       (male cosmetics, dessert, bottled beer)       3\n",
              "31     0.25           (male cosmetics, jam, bottled beer)       3\n",
              "32     0.25               (mustard, yogurt, bottled beer)       3\n",
              "33     0.25                   (mustard, yogurt, cat food)       3\n",
              "34     0.25                (male cosmetics, dessert, jam)       3\n",
              "35     0.25                          (yogurt, soda, pork)       3\n",
              "36     0.25     (mustard, yogurt, cat food, bottled beer)       4\n",
              "37     0.25  (male cosmetics, dessert, bottled beer, jam)       4"
            ]
          },
          "metadata": {},
          "execution_count": 45
        }
      ]
    },
    {
      "cell_type": "code",
      "metadata": {
        "execution": {
          "iopub.execute_input": "2020-12-28T08:40:50.915435Z",
          "iopub.status.busy": "2020-12-28T08:40:50.914767Z",
          "iopub.status.idle": "2020-12-28T08:40:50.919162Z",
          "shell.execute_reply": "2020-12-28T08:40:50.918586Z"
        },
        "papermill": {
          "duration": 0.08839,
          "end_time": "2020-12-28T08:40:50.919268",
          "exception": false,
          "start_time": "2020-12-28T08:40:50.830878",
          "status": "completed"
        },
        "tags": [],
        "id": "6zcPsQztbEs1",
        "colab": {
          "base_uri": "https://localhost:8080/",
          "height": 363
        },
        "outputId": "73dce704-2332-47a4-a781-b4b0a1c8653f"
      },
      "source": [
        "freq_items.tail(10)"
      ],
      "execution_count": null,
      "outputs": [
        {
          "output_type": "execute_result",
          "data": {
            "text/html": [
              "<div>\n",
              "<style scoped>\n",
              "    .dataframe tbody tr th:only-of-type {\n",
              "        vertical-align: middle;\n",
              "    }\n",
              "\n",
              "    .dataframe tbody tr th {\n",
              "        vertical-align: top;\n",
              "    }\n",
              "\n",
              "    .dataframe thead th {\n",
              "        text-align: right;\n",
              "    }\n",
              "</style>\n",
              "<table border=\"1\" class=\"dataframe\">\n",
              "  <thead>\n",
              "    <tr style=\"text-align: right;\">\n",
              "      <th></th>\n",
              "      <th>support</th>\n",
              "      <th>itemsets</th>\n",
              "      <th>length</th>\n",
              "    </tr>\n",
              "  </thead>\n",
              "  <tbody>\n",
              "    <tr>\n",
              "      <th>28</th>\n",
              "      <td>0.25</td>\n",
              "      <td>(yogurt, cat food, bottled beer)</td>\n",
              "      <td>3</td>\n",
              "    </tr>\n",
              "    <tr>\n",
              "      <th>29</th>\n",
              "      <td>0.25</td>\n",
              "      <td>(dessert, bottled beer, jam)</td>\n",
              "      <td>3</td>\n",
              "    </tr>\n",
              "    <tr>\n",
              "      <th>30</th>\n",
              "      <td>0.25</td>\n",
              "      <td>(male cosmetics, dessert, bottled beer)</td>\n",
              "      <td>3</td>\n",
              "    </tr>\n",
              "    <tr>\n",
              "      <th>31</th>\n",
              "      <td>0.25</td>\n",
              "      <td>(male cosmetics, jam, bottled beer)</td>\n",
              "      <td>3</td>\n",
              "    </tr>\n",
              "    <tr>\n",
              "      <th>32</th>\n",
              "      <td>0.25</td>\n",
              "      <td>(mustard, yogurt, bottled beer)</td>\n",
              "      <td>3</td>\n",
              "    </tr>\n",
              "    <tr>\n",
              "      <th>33</th>\n",
              "      <td>0.25</td>\n",
              "      <td>(mustard, yogurt, cat food)</td>\n",
              "      <td>3</td>\n",
              "    </tr>\n",
              "    <tr>\n",
              "      <th>34</th>\n",
              "      <td>0.25</td>\n",
              "      <td>(male cosmetics, dessert, jam)</td>\n",
              "      <td>3</td>\n",
              "    </tr>\n",
              "    <tr>\n",
              "      <th>35</th>\n",
              "      <td>0.25</td>\n",
              "      <td>(yogurt, soda, pork)</td>\n",
              "      <td>3</td>\n",
              "    </tr>\n",
              "    <tr>\n",
              "      <th>36</th>\n",
              "      <td>0.25</td>\n",
              "      <td>(mustard, yogurt, cat food, bottled beer)</td>\n",
              "      <td>4</td>\n",
              "    </tr>\n",
              "    <tr>\n",
              "      <th>37</th>\n",
              "      <td>0.25</td>\n",
              "      <td>(male cosmetics, dessert, bottled beer, jam)</td>\n",
              "      <td>4</td>\n",
              "    </tr>\n",
              "  </tbody>\n",
              "</table>\n",
              "</div>"
            ],
            "text/plain": [
              "    support                                      itemsets  length\n",
              "28     0.25              (yogurt, cat food, bottled beer)       3\n",
              "29     0.25                  (dessert, bottled beer, jam)       3\n",
              "30     0.25       (male cosmetics, dessert, bottled beer)       3\n",
              "31     0.25           (male cosmetics, jam, bottled beer)       3\n",
              "32     0.25               (mustard, yogurt, bottled beer)       3\n",
              "33     0.25                   (mustard, yogurt, cat food)       3\n",
              "34     0.25                (male cosmetics, dessert, jam)       3\n",
              "35     0.25                          (yogurt, soda, pork)       3\n",
              "36     0.25     (mustard, yogurt, cat food, bottled beer)       4\n",
              "37     0.25  (male cosmetics, dessert, bottled beer, jam)       4"
            ]
          },
          "metadata": {},
          "execution_count": 46
        }
      ]
    },
    {
      "cell_type": "code",
      "metadata": {
        "id": "tmh3UF9gMEJM",
        "colab": {
          "base_uri": "https://localhost:8080/"
        },
        "outputId": "36ee834a-6d16-429e-cde3-cb43a169fd1a"
      },
      "source": [
        "length = freq_items.iloc[-1]['length']\n",
        "length"
      ],
      "execution_count": null,
      "outputs": [
        {
          "output_type": "execute_result",
          "data": {
            "text/plain": [
              "4"
            ]
          },
          "metadata": {},
          "execution_count": 47
        }
      ]
    },
    {
      "cell_type": "code",
      "metadata": {
        "id": "XYSc2g-YPk4T"
      },
      "source": [
        "l = freq_items.loc[freq_items['length'] == length]"
      ],
      "execution_count": null,
      "outputs": []
    },
    {
      "cell_type": "code",
      "metadata": {
        "id": "GZ4QILGtOKIk",
        "colab": {
          "base_uri": "https://localhost:8080/",
          "height": 112
        },
        "outputId": "35cea1a2-5d90-42c8-c1a1-269a1e31e3e6"
      },
      "source": [
        "l"
      ],
      "execution_count": null,
      "outputs": [
        {
          "output_type": "execute_result",
          "data": {
            "text/html": [
              "<div>\n",
              "<style scoped>\n",
              "    .dataframe tbody tr th:only-of-type {\n",
              "        vertical-align: middle;\n",
              "    }\n",
              "\n",
              "    .dataframe tbody tr th {\n",
              "        vertical-align: top;\n",
              "    }\n",
              "\n",
              "    .dataframe thead th {\n",
              "        text-align: right;\n",
              "    }\n",
              "</style>\n",
              "<table border=\"1\" class=\"dataframe\">\n",
              "  <thead>\n",
              "    <tr style=\"text-align: right;\">\n",
              "      <th></th>\n",
              "      <th>support</th>\n",
              "      <th>itemsets</th>\n",
              "      <th>length</th>\n",
              "    </tr>\n",
              "  </thead>\n",
              "  <tbody>\n",
              "    <tr>\n",
              "      <th>36</th>\n",
              "      <td>0.25</td>\n",
              "      <td>(mustard, yogurt, cat food, bottled beer)</td>\n",
              "      <td>4</td>\n",
              "    </tr>\n",
              "    <tr>\n",
              "      <th>37</th>\n",
              "      <td>0.25</td>\n",
              "      <td>(male cosmetics, dessert, bottled beer, jam)</td>\n",
              "      <td>4</td>\n",
              "    </tr>\n",
              "  </tbody>\n",
              "</table>\n",
              "</div>"
            ],
            "text/plain": [
              "    support                                      itemsets  length\n",
              "36     0.25     (mustard, yogurt, cat food, bottled beer)       4\n",
              "37     0.25  (male cosmetics, dessert, bottled beer, jam)       4"
            ]
          },
          "metadata": {},
          "execution_count": 49
        }
      ]
    },
    {
      "cell_type": "code",
      "metadata": {
        "id": "A_DvmKITPmZb"
      },
      "source": [
        "names=[]\n",
        "for i in l.itemsets:\n",
        "  for j in i:\n",
        "    if j not in names:\n",
        "      names.append(j)"
      ],
      "execution_count": null,
      "outputs": []
    },
    {
      "cell_type": "code",
      "metadata": {
        "id": "uFVEDvEnQ6bl",
        "colab": {
          "base_uri": "https://localhost:8080/"
        },
        "outputId": "0a22893e-727b-4347-91d1-c3c95c0757f8"
      },
      "source": [
        "names"
      ],
      "execution_count": null,
      "outputs": [
        {
          "output_type": "execute_result",
          "data": {
            "text/plain": [
              "['mustard',\n",
              " 'yogurt',\n",
              " 'cat food',\n",
              " 'bottled beer',\n",
              " 'male cosmetics',\n",
              " 'dessert',\n",
              " 'jam']"
            ]
          },
          "metadata": {},
          "execution_count": 51
        }
      ]
    },
    {
      "cell_type": "code",
      "metadata": {
        "execution": {
          "iopub.execute_input": "2020-12-28T08:40:51.059420Z",
          "iopub.status.busy": "2020-12-28T08:40:51.058749Z",
          "iopub.status.idle": "2020-12-28T08:40:51.097696Z",
          "shell.execute_reply": "2020-12-28T08:40:51.098326Z"
        },
        "papermill": {
          "duration": 0.110761,
          "end_time": "2020-12-28T08:40:51.098476",
          "exception": false,
          "start_time": "2020-12-28T08:40:50.987715",
          "status": "completed"
        },
        "tags": [],
        "id": "JhWUHy1gbEs1"
      },
      "source": [
        "rules = association_rules(freq_items, metric=\"confidence\", min_threshold=0.001)"
      ],
      "execution_count": null,
      "outputs": []
    },
    {
      "cell_type": "code",
      "metadata": {
        "id": "AC7-JgvPFX8_",
        "colab": {
          "base_uri": "https://localhost:8080/"
        },
        "outputId": "6d118325-b2be-4879-989d-07faf44d69de"
      },
      "source": [
        "rules.shape"
      ],
      "execution_count": null,
      "outputs": [
        {
          "output_type": "execute_result",
          "data": {
            "text/plain": [
              "(114, 9)"
            ]
          },
          "metadata": {},
          "execution_count": 53
        }
      ]
    },
    {
      "cell_type": "code",
      "metadata": {
        "id": "0iT-mYTvFa1X",
        "colab": {
          "base_uri": "https://localhost:8080/",
          "height": 363
        },
        "outputId": "9d28f782-07d8-41a4-bd44-dfd40d06f303"
      },
      "source": [
        "rules.head(10)"
      ],
      "execution_count": null,
      "outputs": [
        {
          "output_type": "execute_result",
          "data": {
            "text/html": [
              "<div>\n",
              "<style scoped>\n",
              "    .dataframe tbody tr th:only-of-type {\n",
              "        vertical-align: middle;\n",
              "    }\n",
              "\n",
              "    .dataframe tbody tr th {\n",
              "        vertical-align: top;\n",
              "    }\n",
              "\n",
              "    .dataframe thead th {\n",
              "        text-align: right;\n",
              "    }\n",
              "</style>\n",
              "<table border=\"1\" class=\"dataframe\">\n",
              "  <thead>\n",
              "    <tr style=\"text-align: right;\">\n",
              "      <th></th>\n",
              "      <th>antecedents</th>\n",
              "      <th>consequents</th>\n",
              "      <th>antecedent support</th>\n",
              "      <th>consequent support</th>\n",
              "      <th>support</th>\n",
              "      <th>confidence</th>\n",
              "      <th>lift</th>\n",
              "      <th>leverage</th>\n",
              "      <th>conviction</th>\n",
              "    </tr>\n",
              "  </thead>\n",
              "  <tbody>\n",
              "    <tr>\n",
              "      <th>0</th>\n",
              "      <td>(cat food)</td>\n",
              "      <td>(bottled beer)</td>\n",
              "      <td>0.25</td>\n",
              "      <td>0.50</td>\n",
              "      <td>0.25</td>\n",
              "      <td>1.0</td>\n",
              "      <td>2.0</td>\n",
              "      <td>0.125</td>\n",
              "      <td>inf</td>\n",
              "    </tr>\n",
              "    <tr>\n",
              "      <th>1</th>\n",
              "      <td>(bottled beer)</td>\n",
              "      <td>(cat food)</td>\n",
              "      <td>0.50</td>\n",
              "      <td>0.25</td>\n",
              "      <td>0.25</td>\n",
              "      <td>0.5</td>\n",
              "      <td>2.0</td>\n",
              "      <td>0.125</td>\n",
              "      <td>1.5</td>\n",
              "    </tr>\n",
              "    <tr>\n",
              "      <th>2</th>\n",
              "      <td>(dessert)</td>\n",
              "      <td>(bottled beer)</td>\n",
              "      <td>0.25</td>\n",
              "      <td>0.50</td>\n",
              "      <td>0.25</td>\n",
              "      <td>1.0</td>\n",
              "      <td>2.0</td>\n",
              "      <td>0.125</td>\n",
              "      <td>inf</td>\n",
              "    </tr>\n",
              "    <tr>\n",
              "      <th>3</th>\n",
              "      <td>(bottled beer)</td>\n",
              "      <td>(dessert)</td>\n",
              "      <td>0.50</td>\n",
              "      <td>0.25</td>\n",
              "      <td>0.25</td>\n",
              "      <td>0.5</td>\n",
              "      <td>2.0</td>\n",
              "      <td>0.125</td>\n",
              "      <td>1.5</td>\n",
              "    </tr>\n",
              "    <tr>\n",
              "      <th>4</th>\n",
              "      <td>(jam)</td>\n",
              "      <td>(bottled beer)</td>\n",
              "      <td>0.25</td>\n",
              "      <td>0.50</td>\n",
              "      <td>0.25</td>\n",
              "      <td>1.0</td>\n",
              "      <td>2.0</td>\n",
              "      <td>0.125</td>\n",
              "      <td>inf</td>\n",
              "    </tr>\n",
              "    <tr>\n",
              "      <th>5</th>\n",
              "      <td>(bottled beer)</td>\n",
              "      <td>(jam)</td>\n",
              "      <td>0.50</td>\n",
              "      <td>0.25</td>\n",
              "      <td>0.25</td>\n",
              "      <td>0.5</td>\n",
              "      <td>2.0</td>\n",
              "      <td>0.125</td>\n",
              "      <td>1.5</td>\n",
              "    </tr>\n",
              "    <tr>\n",
              "      <th>6</th>\n",
              "      <td>(male cosmetics)</td>\n",
              "      <td>(bottled beer)</td>\n",
              "      <td>0.25</td>\n",
              "      <td>0.50</td>\n",
              "      <td>0.25</td>\n",
              "      <td>1.0</td>\n",
              "      <td>2.0</td>\n",
              "      <td>0.125</td>\n",
              "      <td>inf</td>\n",
              "    </tr>\n",
              "    <tr>\n",
              "      <th>7</th>\n",
              "      <td>(bottled beer)</td>\n",
              "      <td>(male cosmetics)</td>\n",
              "      <td>0.50</td>\n",
              "      <td>0.25</td>\n",
              "      <td>0.25</td>\n",
              "      <td>0.5</td>\n",
              "      <td>2.0</td>\n",
              "      <td>0.125</td>\n",
              "      <td>1.5</td>\n",
              "    </tr>\n",
              "    <tr>\n",
              "      <th>8</th>\n",
              "      <td>(mustard)</td>\n",
              "      <td>(bottled beer)</td>\n",
              "      <td>0.25</td>\n",
              "      <td>0.50</td>\n",
              "      <td>0.25</td>\n",
              "      <td>1.0</td>\n",
              "      <td>2.0</td>\n",
              "      <td>0.125</td>\n",
              "      <td>inf</td>\n",
              "    </tr>\n",
              "    <tr>\n",
              "      <th>9</th>\n",
              "      <td>(bottled beer)</td>\n",
              "      <td>(mustard)</td>\n",
              "      <td>0.50</td>\n",
              "      <td>0.25</td>\n",
              "      <td>0.25</td>\n",
              "      <td>0.5</td>\n",
              "      <td>2.0</td>\n",
              "      <td>0.125</td>\n",
              "      <td>1.5</td>\n",
              "    </tr>\n",
              "  </tbody>\n",
              "</table>\n",
              "</div>"
            ],
            "text/plain": [
              "        antecedents       consequents  ...  leverage  conviction\n",
              "0        (cat food)    (bottled beer)  ...     0.125         inf\n",
              "1    (bottled beer)        (cat food)  ...     0.125         1.5\n",
              "2         (dessert)    (bottled beer)  ...     0.125         inf\n",
              "3    (bottled beer)         (dessert)  ...     0.125         1.5\n",
              "4             (jam)    (bottled beer)  ...     0.125         inf\n",
              "5    (bottled beer)             (jam)  ...     0.125         1.5\n",
              "6  (male cosmetics)    (bottled beer)  ...     0.125         inf\n",
              "7    (bottled beer)  (male cosmetics)  ...     0.125         1.5\n",
              "8         (mustard)    (bottled beer)  ...     0.125         inf\n",
              "9    (bottled beer)         (mustard)  ...     0.125         1.5\n",
              "\n",
              "[10 rows x 9 columns]"
            ]
          },
          "metadata": {},
          "execution_count": 54
        }
      ]
    }
  ]
}